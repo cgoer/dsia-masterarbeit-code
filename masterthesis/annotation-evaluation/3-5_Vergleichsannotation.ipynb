{
 "cells": [
  {
   "cell_type": "markdown",
   "id": "00aa02dd",
   "metadata": {},
   "source": [
    "# Analyse der Vergleichsannotation\n",
    "\n",
    "Dieses Notebook enthält die Aufbereitung der Daten aus der Vergleichsannotation sowie den Vergleich zur Crowdsourcing-Annotation"
   ]
  },
  {
   "cell_type": "markdown",
   "id": "d1bd6045",
   "metadata": {},
   "source": [
    "---\n",
    "\n",
    "### Package- und Datenimport"
   ]
  },
  {
   "cell_type": "code",
   "execution_count": 530,
   "id": "4fece0fe",
   "metadata": {},
   "outputs": [],
   "source": [
    "import pandas as pd\n",
    "import numpy as np\n",
    "import sklearn.metrics as metrics\n",
    "from pymongo import MongoClient\n",
    "from irrCAC.raw import CAC"
   ]
  },
  {
   "cell_type": "code",
   "execution_count": 531,
   "id": "619b251e",
   "metadata": {},
   "outputs": [],
   "source": [
    "def get_client():\n",
    "    return MongoClient('mongodb://{}:{}@{}:{}'.format(\n",
    "        'root',\n",
    "        'root',\n",
    "        '0.0.0.0',\n",
    "        '27017',\n",
    "    ))\n",
    "\n",
    "def get_database():\n",
    "    client = get_client()\n",
    "    return client.get_database('masterthesis-goerner')\n",
    "\n",
    "db = get_database()\n",
    "cursor = db['annotationresults'].find({})\n",
    "toloka_res =  pd.DataFrame(list(cursor))\n",
    "df = toloka_res.sample(frac=0.06592827004)"
   ]
  },
  {
   "cell_type": "markdown",
   "id": "d84b61b2",
   "metadata": {},
   "source": [
    "---\n",
    "\n",
    "### Import der Toloka- Annotationsergebnisse\n",
    "\n",
    "In diesem Abschnitt werden 250 der skzeptierten Sätze aus Toloka in ein Doccano-Spezifisches Format gebracht.\n",
    "Diese werden anschließend via doccano mit 2 Annotierenden bewertet."
   ]
  },
  {
   "cell_type": "code",
   "execution_count": 532,
   "id": "ef4f8fd2",
   "metadata": {},
   "outputs": [],
   "source": [
    "df['id'] = toloka_res['preprocessed_id']\n",
    "df['entities'] = df.apply(lambda x: [[x.main_start_pos,x.main_end_pos,x.original_word_main]],axis=1)\n",
    "df['text'] = df['sentence_sample']\n",
    "df = df.drop(columns=['preprocessed_word','original_word_main','date_publish','source_domain','sentence_sample','main_start_pos','main_end_pos','match_id','polarity','_id','url_id','preprocessed_id'])"
   ]
  },
  {
   "cell_type": "code",
   "execution_count": 533,
   "id": "4401eabb",
   "metadata": {},
   "outputs": [],
   "source": [
    "#df.to_json('doccano.jsonl',orient='records', lines=True)"
   ]
  },
  {
   "cell_type": "markdown",
   "id": "cd4cc4b7",
   "metadata": {},
   "source": [
    "---\n",
    "\n",
    "### Vorbereitung der Daten beider Annotatoren"
   ]
  },
  {
   "cell_type": "code",
   "execution_count": 534,
   "id": "061b3c8c",
   "metadata": {},
   "outputs": [],
   "source": [
    "annotator1 = pd.read_json('data/validation_annotator_1.jsonl',orient='records', lines=True)\n",
    "annotator1['cats'] = annotator1.apply(lambda x: np.nan if len(x.cats) < 1 else str(x.cats[0]), axis=1)"
   ]
  },
  {
   "cell_type": "code",
   "execution_count": 535,
   "id": "0c03a8f6",
   "metadata": {},
   "outputs": [],
   "source": [
    "annotator2 = pd.read_json('data/validation_annotator_2.jsonl',orient='records', lines=True)\n",
    "annotator2['cats'] = annotator2.apply(lambda x: np.nan if len(x.cats) < 1 else str(x.cats[0]), axis=1)"
   ]
  },
  {
   "cell_type": "code",
   "execution_count": 536,
   "id": "4408f634",
   "metadata": {},
   "outputs": [],
   "source": [
    "def combine_cats(cats):\n",
    "    if cats == 'leicht negativ':\n",
    "        return 'negativ'\n",
    "    if cats == 'leicht positiv':\n",
    "        return 'positiv'\n",
    "    return cats\n",
    "annotator1['cats'] = annotator1.apply(lambda x: combine_cats(x.cats), axis=1)\n",
    "annotator2['cats'] = annotator2.apply(lambda x: combine_cats(x.cats), axis=1)"
   ]
  },
  {
   "cell_type": "markdown",
   "id": "2ad05afa",
   "metadata": {},
   "source": [
    "---\n",
    "\n",
    "### Berechnung von Koeffizienten\n",
    "in diesem Abschnitt werden die Koeffizienten Kappa und AC2 berechnet"
   ]
  },
  {
   "cell_type": "code",
   "execution_count": 537,
   "id": "c2a4bc6e",
   "metadata": {},
   "outputs": [
    {
     "data": {
      "text/plain": [
       "0.7138496756962991"
      ]
     },
     "execution_count": 537,
     "metadata": {},
     "output_type": "execute_result"
    }
   ],
   "source": [
    "metrics.cohen_kappa_score(annotator1['cats'].astype(str), annotator2['cats'].astype(str))"
   ]
  },
  {
   "cell_type": "code",
   "execution_count": 538,
   "id": "235f6bb5",
   "metadata": {},
   "outputs": [
    {
     "data": {
      "text/plain": [
       "{'est': {'coefficient_value': 0.9401,\n",
       "  'coefficient_name': 'AC2',\n",
       "  'confidence_interval': (0.91896, 0.96124),\n",
       "  'p_value': 0.0,\n",
       "  'z': 87.58067,\n",
       "  'se': 0.01073,\n",
       "  'pa': 0.97,\n",
       "  'pe': 0.49914},\n",
       " 'weights': array([[1.        , 0.83333333, 0.5       , 0.        ],\n",
       "        [0.83333333, 1.        , 0.83333333, 0.5       ],\n",
       "        [0.5       , 0.83333333, 1.        , 0.83333333],\n",
       "        [0.        , 0.5       , 0.83333333, 1.        ]]),\n",
       " 'categories': ['negativ', 'neutral', 'positiv', 'positivs']}"
      ]
     },
     "execution_count": 538,
     "metadata": {},
     "output_type": "execute_result"
    }
   ],
   "source": [
    "cac_obj = CAC(pd.DataFrame({'annotator1':annotator1['cats'].astype(str), 'annotator2':annotator2['cats'].astype(str)}), weights='ordinal')\n",
    "cac_obj.gwet()"
   ]
  },
  {
   "cell_type": "markdown",
   "id": "f3f001dc",
   "metadata": {},
   "source": [
    "---\n",
    "\n",
    "### Akzeptanz von Ergebnissen durch Majority Voting"
   ]
  },
  {
   "cell_type": "code",
   "execution_count": 539,
   "id": "1c6d393d",
   "metadata": {},
   "outputs": [],
   "source": [
    "concatenated = pd.concat([annotator1, annotator2],ignore_index=True)"
   ]
  },
  {
   "cell_type": "code",
   "execution_count": 540,
   "id": "9f2dd11e",
   "metadata": {},
   "outputs": [],
   "source": [
    "def one_hot_encode(df, field):\n",
    "    one_hot = pd.get_dummies(df[field])\n",
    "    # Drop original column as it is now encoded\n",
    "    df = df.drop(field,axis = 1)\n",
    "    # Join the encoded df\n",
    "    return df.join(one_hot) \n",
    "concatenated = one_hot_encode(concatenated, 'cats')"
   ]
  },
  {
   "cell_type": "code",
   "execution_count": 541,
   "id": "dcf856ce",
   "metadata": {},
   "outputs": [],
   "source": [
    "grp = concatenated.groupby(by=['text'], as_index=True).agg({'negativ':'sum', 'neutral':'sum','positiv':'sum','id':'first','text':'first'})"
   ]
  },
  {
   "cell_type": "code",
   "execution_count": 542,
   "id": "466da88c",
   "metadata": {},
   "outputs": [],
   "source": [
    "def get_accepted_values(df):\n",
    "    neg = df[df['negativ'] > 1]\n",
    "    neg['sentiment'] = 'negative'\n",
    "    neg = neg.drop(columns=['negativ', 'neutral', 'positiv'])\n",
    "    \n",
    "    pos = df[df['positiv'] > 1]\n",
    "    pos['sentiment'] = 'positive'\n",
    "    pos = pos.drop(columns=['negativ', 'neutral', 'positiv'])\n",
    "    \n",
    "    ntr = df[df['neutral'] > 1]\n",
    "    ntr['sentiment'] = 'neutral'\n",
    "    ntr = ntr.drop(columns=['negativ', 'neutral', 'positiv'])\n",
    "    \n",
    "    return pd.concat([pos, neg, ntr])"
   ]
  },
  {
   "cell_type": "code",
   "execution_count": 543,
   "id": "49837c0b",
   "metadata": {},
   "outputs": [
    {
     "name": "stderr",
     "output_type": "stream",
     "text": [
      "/var/folders/sj/05cd3m9s4rd6g_j7lhcqb4x80000gp/T/ipykernel_95539/948297722.py:3: SettingWithCopyWarning: \n",
      "A value is trying to be set on a copy of a slice from a DataFrame.\n",
      "Try using .loc[row_indexer,col_indexer] = value instead\n",
      "\n",
      "See the caveats in the documentation: https://pandas.pydata.org/pandas-docs/stable/user_guide/indexing.html#returning-a-view-versus-a-copy\n",
      "  neg['sentiment'] = 'negative'\n",
      "/var/folders/sj/05cd3m9s4rd6g_j7lhcqb4x80000gp/T/ipykernel_95539/948297722.py:7: SettingWithCopyWarning: \n",
      "A value is trying to be set on a copy of a slice from a DataFrame.\n",
      "Try using .loc[row_indexer,col_indexer] = value instead\n",
      "\n",
      "See the caveats in the documentation: https://pandas.pydata.org/pandas-docs/stable/user_guide/indexing.html#returning-a-view-versus-a-copy\n",
      "  pos['sentiment'] = 'positive'\n",
      "/var/folders/sj/05cd3m9s4rd6g_j7lhcqb4x80000gp/T/ipykernel_95539/948297722.py:11: SettingWithCopyWarning: \n",
      "A value is trying to be set on a copy of a slice from a DataFrame.\n",
      "Try using .loc[row_indexer,col_indexer] = value instead\n",
      "\n",
      "See the caveats in the documentation: https://pandas.pydata.org/pandas-docs/stable/user_guide/indexing.html#returning-a-view-versus-a-copy\n",
      "  ntr['sentiment'] = 'neutral'\n"
     ]
    }
   ],
   "source": [
    "result = get_accepted_values(grp)"
   ]
  },
  {
   "cell_type": "code",
   "execution_count": 544,
   "id": "17cda02e",
   "metadata": {},
   "outputs": [],
   "source": [
    "result['text'] = result.index"
   ]
  },
  {
   "cell_type": "code",
   "execution_count": 545,
   "id": "8c085b1f",
   "metadata": {},
   "outputs": [
    {
     "data": {
      "text/plain": [
       "0.844"
      ]
     },
     "execution_count": 545,
     "metadata": {},
     "output_type": "execute_result"
    }
   ],
   "source": [
    "# Acceptance rate\n",
    "len(result) / len(grp)"
   ]
  },
  {
   "cell_type": "code",
   "execution_count": 546,
   "id": "3aaef9b4",
   "metadata": {},
   "outputs": [
    {
     "data": {
      "text/plain": [
       "211"
      ]
     },
     "execution_count": 546,
     "metadata": {},
     "output_type": "execute_result"
    }
   ],
   "source": [
    "# Total accepted\n",
    "len(result)"
   ]
  },
  {
   "cell_type": "code",
   "execution_count": 547,
   "id": "49e380c7",
   "metadata": {},
   "outputs": [
    {
     "data": {
      "text/plain": [
       "<pymongo.results.InsertManyResult at 0x7fadc3f13f40>"
      ]
     },
     "execution_count": 547,
     "metadata": {},
     "output_type": "execute_result"
    }
   ],
   "source": [
    "#db.referenceannotation.insert_many(result.to_dict('records'))"
   ]
  },
  {
   "cell_type": "markdown",
   "id": "d99ab784",
   "metadata": {},
   "source": [
    "---\n",
    "\n",
    "### Zusammenführung und Bewertung von Toloka- und Vergleichsannotationen"
   ]
  },
  {
   "cell_type": "code",
   "execution_count": 516,
   "id": "d50cf98e",
   "metadata": {},
   "outputs": [],
   "source": [
    "toloka_res = toloka_res.drop(columns=['preprocessed_word','original_word_main','date_publish','source_domain','sentence_sample','main_start_pos','main_end_pos','match_id'])"
   ]
  },
  {
   "cell_type": "code",
   "execution_count": 517,
   "id": "3e43682d",
   "metadata": {},
   "outputs": [],
   "source": [
    "merged = pd.merge(result,toloka_res,how='left',left_on='id',right_on='preprocessed_id',suffixes=('','_tlk'))"
   ]
  },
  {
   "cell_type": "code",
   "execution_count": 518,
   "id": "0e815fe9",
   "metadata": {},
   "outputs": [
    {
     "data": {
      "text/plain": [
       "neutral     135\n",
       "positive     45\n",
       "negative     31\n",
       "Name: polarity, dtype: int64"
      ]
     },
     "execution_count": 518,
     "metadata": {},
     "output_type": "execute_result"
    }
   ],
   "source": [
    "merged['polarity'].value_counts()"
   ]
  },
  {
   "cell_type": "code",
   "execution_count": 519,
   "id": "09c8fe04",
   "metadata": {},
   "outputs": [],
   "source": [
    "both_accepted = merged[~merged['polarity'].isna()]"
   ]
  },
  {
   "cell_type": "code",
   "execution_count": 520,
   "id": "82dd6ee3",
   "metadata": {},
   "outputs": [],
   "source": [
    "def get_agreements(row):\n",
    "    if row['sentiment'] == row['polarity']:\n",
    "        return True\n",
    "    return False\n",
    "\n",
    "both_accepted['agreement'] = both_accepted.apply(lambda x: get_agreements(x),axis=1)"
   ]
  },
  {
   "cell_type": "code",
   "execution_count": 521,
   "id": "d6c4d5a2",
   "metadata": {},
   "outputs": [
    {
     "data": {
      "text/plain": [
       "True     0.7109\n",
       "False    0.2891\n",
       "Name: agreement, dtype: float64"
      ]
     },
     "execution_count": 521,
     "metadata": {},
     "output_type": "execute_result"
    }
   ],
   "source": [
    "both_accepted['agreement'].value_counts(normalize=True)"
   ]
  },
  {
   "cell_type": "code",
   "execution_count": 494,
   "id": "3d278ddd",
   "metadata": {},
   "outputs": [
    {
     "data": {
      "text/plain": [
       "neutral     0.713333\n",
       "positive    0.186667\n",
       "negative    0.100000\n",
       "Name: sentiment, dtype: float64"
      ]
     },
     "execution_count": 494,
     "metadata": {},
     "output_type": "execute_result"
    }
   ],
   "source": [
    "both_accepted[both_accepted['agreement'] == True]['sentiment'].value_counts(normalize=True)"
   ]
  },
  {
   "cell_type": "code",
   "execution_count": 522,
   "id": "64ef754d",
   "metadata": {},
   "outputs": [],
   "source": [
    "disagreements = both_accepted[both_accepted['agreement'] == False]"
   ]
  },
  {
   "cell_type": "code",
   "execution_count": 525,
   "id": "98666876",
   "metadata": {},
   "outputs": [
    {
     "name": "stderr",
     "output_type": "stream",
     "text": [
      "/var/folders/sj/05cd3m9s4rd6g_j7lhcqb4x80000gp/T/ipykernel_95539/3170126380.py:6: SettingWithCopyWarning: \n",
      "A value is trying to be set on a copy of a slice from a DataFrame.\n",
      "Try using .loc[row_indexer,col_indexer] = value instead\n",
      "\n",
      "See the caveats in the documentation: https://pandas.pydata.org/pandas-docs/stable/user_guide/indexing.html#returning-a-view-versus-a-copy\n",
      "  disagreements['opposite'] = disagreements.apply(lambda x: find_opposite_classes(x), axis=1)\n"
     ]
    }
   ],
   "source": [
    "def find_opposite_classes(row):\n",
    "    if (row['sentiment'] == 'negative' and row['polarity'] == 'positive') or (row['sentiment'] == 'positive' and row['polarity'] == 'negative'):\n",
    "        return True\n",
    "    return False\n",
    "\n",
    "disagreements['opposite'] = disagreements.apply(lambda x: find_opposite_classes(x), axis=1)"
   ]
  },
  {
   "cell_type": "code",
   "execution_count": 528,
   "id": "53134967",
   "metadata": {},
   "outputs": [
    {
     "data": {
      "text/plain": [
       "0.014218009478672985"
      ]
     },
     "execution_count": 528,
     "metadata": {},
     "output_type": "execute_result"
    }
   ],
   "source": [
    "len(disagreements[disagreements['opposite'] == True]) / len(both_accepted)"
   ]
  },
  {
   "cell_type": "code",
   "execution_count": null,
   "id": "b30fc924",
   "metadata": {},
   "outputs": [],
   "source": []
  }
 ],
 "metadata": {
  "kernelspec": {
   "display_name": "Python 3 (ipykernel)",
   "language": "python",
   "name": "python3"
  },
  "language_info": {
   "codemirror_mode": {
    "name": "ipython",
    "version": 3
   },
   "file_extension": ".py",
   "mimetype": "text/x-python",
   "name": "python",
   "nbconvert_exporter": "python",
   "pygments_lexer": "ipython3",
   "version": "3.10.4"
  }
 },
 "nbformat": 4,
 "nbformat_minor": 5
}
