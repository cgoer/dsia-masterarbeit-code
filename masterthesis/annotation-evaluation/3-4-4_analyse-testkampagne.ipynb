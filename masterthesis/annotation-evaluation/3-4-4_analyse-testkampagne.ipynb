{
 "cells": [
  {
   "cell_type": "markdown",
   "id": "ba8dadea",
   "metadata": {},
   "source": [
    "# 3.4.4 Analyse der Testkampagne\n",
    "In diesem Notebook werden die Ergebnisse der Toloka Testkampagne bearbeitet.\n",
    "\n",
    "---\n",
    "\n",
    "### Package- und Datenimport"
   ]
  },
  {
   "cell_type": "code",
   "execution_count": 19,
   "id": "4fece0fe",
   "metadata": {},
   "outputs": [],
   "source": [
    "import pandas as pd\n",
    "import numpy as np\n",
    "from irrCAC.raw import CAC"
   ]
  },
  {
   "cell_type": "code",
   "execution_count": 7,
   "id": "619b251e",
   "metadata": {},
   "outputs": [],
   "source": [
    "toloka_res = pd.read_csv('data/results_test_campaign_toloka.tsv', sep=\"\\t\")"
   ]
  },
  {
   "cell_type": "markdown",
   "id": "4c111583",
   "metadata": {},
   "source": [
    "---\n",
    "\n",
    "### Vorverarbeitung der Toloka-Ergebnisse\n",
    "Dieser Abschnitt beinhaltet die vorverarbeitung der Toloka Daten.\n"
   ]
  },
  {
   "cell_type": "code",
   "execution_count": 8,
   "id": "53987d5f",
   "metadata": {},
   "outputs": [],
   "source": [
    "def one_hot_encode(df, field):\n",
    "    one_hot = pd.get_dummies(df[field])\n",
    "    # Drop original column as it is now encoded\n",
    "    df = df.drop(field,axis = 1)\n",
    "    # Join the encoded df\n",
    "    return df.join(one_hot) "
   ]
  },
  {
   "cell_type": "code",
   "execution_count": 9,
   "id": "0bc28378",
   "metadata": {},
   "outputs": [],
   "source": [
    "def preprocess_toloka_results(df):\n",
    "    # drop unnecessary columns, convert values to int\n",
    "    df = df.drop(columns=['ASSIGNMENT:submitted', 'ASSIGNMENT:started','ASSIGNMENT:link','HINT:text','GOLDEN:senti_score','ASSIGNMENT:task_id','ASSIGNMENT:assignment_id','ASSIGNMENT:worker_id','ACCEPT:verdict','ACCEPT:comment','HINT:default_language'])\n",
    "    df = df.dropna(subset=['OUTPUT:senti_score'])\n",
    "    df['OUTPUT:senti_score'] = df['OUTPUT:senti_score'].astype(int)\n",
    "    # delete score if result was rejected\n",
    "    df['OUTPUT:senti_score'] = df.apply(lambda x: np.nan if x['ASSIGNMENT:status'] == 'REJECTED' else x['OUTPUT:senti_score'], axis=1)\n",
    "    # one hot encode scores and rejection status\n",
    "    df = one_hot_encode(df, 'OUTPUT:senti_score')\n",
    "    df = one_hot_encode(df, 'ASSIGNMENT:status')\n",
    "    # group results by sentence\n",
    "    grp = df.groupby(by=['INPUT:sentence'], as_index=True).sum()\n",
    "    return grp"
   ]
  },
  {
   "cell_type": "code",
   "execution_count": 10,
   "id": "3ebbff5a",
   "metadata": {},
   "outputs": [],
   "source": [
    "grp = preprocess_toloka_results(toloka_res)"
   ]
  },
  {
   "cell_type": "markdown",
   "id": "1eaf3dc0",
   "metadata": {},
   "source": [
    "---\n",
    "\n",
    "### Überprüfung valider Ergebnisse\n",
    "\n",
    "In diesem Abschnitt wird ermittelt, wie viele Sätze übereinstimmende Antworten für jede Klasse erhalten haben."
   ]
  },
  {
   "cell_type": "code",
   "execution_count": 15,
   "id": "09caf70f",
   "metadata": {},
   "outputs": [
    {
     "data": {
      "text/plain": [
       "67"
      ]
     },
     "execution_count": 15,
     "metadata": {},
     "output_type": "execute_result"
    }
   ],
   "source": [
    "# negatively labeled sentences with a majority > 2\n",
    "neg = grp[grp[-1.0] > 1]\n",
    "len(neg)"
   ]
  },
  {
   "cell_type": "code",
   "execution_count": 16,
   "id": "5416ade8",
   "metadata": {},
   "outputs": [
    {
     "data": {
      "text/plain": [
       "134"
      ]
     },
     "execution_count": 16,
     "metadata": {},
     "output_type": "execute_result"
    }
   ],
   "source": [
    "# positively  labeled sentences with a majority > 2\n",
    "pos = grp[grp[1.0] > 1]\n",
    "len(pos)"
   ]
  },
  {
   "cell_type": "code",
   "execution_count": 17,
   "id": "7e35d7c3",
   "metadata": {},
   "outputs": [
    {
     "data": {
      "text/plain": [
       "115"
      ]
     },
     "execution_count": 17,
     "metadata": {},
     "output_type": "execute_result"
    }
   ],
   "source": [
    "# neutrally labeled sentences with a majority > 2\n",
    "neu = grp[grp[0.0] > 1]\n",
    "len(neu)"
   ]
  },
  {
   "cell_type": "code",
   "execution_count": 18,
   "id": "a6a5af21",
   "metadata": {},
   "outputs": [
    {
     "data": {
      "text/plain": [
       "0.09572856710087853"
      ]
     },
     "execution_count": 18,
     "metadata": {},
     "output_type": "execute_result"
    }
   ],
   "source": [
    "accepted = pd.concat([neg, pos, neu])\n",
    "len(accepted) / len(toloka_res)"
   ]
  },
  {
   "cell_type": "code",
   "execution_count": 28,
   "id": "b705e723",
   "metadata": {},
   "outputs": [],
   "source": [
    "def create_evaluation_df(df):\n",
    "    ratings_list = []\n",
    "    for index, row in df.iterrows():\n",
    "        res_list = []\n",
    "        if row[-1.0] > 0:\n",
    "            for count_neg in np.arange(0,row[-1.0]):\n",
    "                res_list.append(1)\n",
    "        if row[0.0] > 0:\n",
    "            for count_neu in np.arange(0,row[0.0]):\n",
    "                res_list.append(0)\n",
    "        if row[1.0] > 0:\n",
    "            for count_pos in np.arange(0,row[1.0]):\n",
    "                res_list.append(-1)\n",
    "        if row['REJECTED'] > 0:\n",
    "            for count_rej in np.arange(0,row['REJECTED']):\n",
    "                res_list.append(np.nan)\n",
    "        if (len(res_list) == 3):\n",
    "            ratings_list.append(res_list)\n",
    "    return pd.DataFrame(ratings_list, columns=['1','2','3'])"
   ]
  },
  {
   "cell_type": "code",
   "execution_count": 29,
   "id": "f771ffef",
   "metadata": {},
   "outputs": [
    {
     "name": "stderr",
     "output_type": "stream",
     "text": [
      "/usr/local/Caskroom/miniconda/base/envs/masterthesis-goerner/lib/python3.10/site-packages/irrCAC/raw.py:165: SettingWithCopyWarning: \n",
      "A value is trying to be set on a copy of a slice from a DataFrame\n",
      "\n",
      "See the caveats in the documentation: https://pandas.pydata.org/pandas-docs/stable/user_guide/indexing.html#returning-a-view-versus-a-copy\n",
      "  self.ratings.replace(to_replace=\"\", value=np.nan, inplace=True)\n"
     ]
    },
    {
     "data": {
      "text/plain": [
       "{'est': {'coefficient_value': 0.22242,\n",
       "  'coefficient_name': 'AC2',\n",
       "  'confidence_interval': (0.15549, 0.28934),\n",
       "  'p_value': 1.1445444592084186e-10,\n",
       "  'z': 6.52222,\n",
       "  'se': 0.0341,\n",
       "  'pa': 0.70321,\n",
       "  'pe': 0.61832},\n",
       " 'weights': array([[1.        , 0.66666667, 0.        ],\n",
       "        [0.66666667, 1.        , 0.66666667],\n",
       "        [0.        , 0.66666667, 1.        ]]),\n",
       " 'categories': [-1.0, 0.0, 1.0]}"
      ]
     },
     "execution_count": 29,
     "metadata": {},
     "output_type": "execute_result"
    }
   ],
   "source": [
    "# calculation of AC2 for original results\n",
    "cac_obj = CAC(create_evaluation_df(grp),weights='ordinal')\n",
    "cac_obj.gwet()"
   ]
  },
  {
   "cell_type": "code",
   "execution_count": 30,
   "id": "9085fd20",
   "metadata": {},
   "outputs": [
    {
     "data": {
      "text/plain": [
       "{'est': {'coefficient_value': 0.71537,\n",
       "  'coefficient_name': 'AC2',\n",
       "  'confidence_interval': (0.6627, 0.76804),\n",
       "  'p_value': 0.0,\n",
       "  'z': 26.72306,\n",
       "  'se': 0.02677,\n",
       "  'pa': 0.88924,\n",
       "  'pe': 0.61087},\n",
       " 'weights': array([[1.        , 0.66666667, 0.        ],\n",
       "        [0.66666667, 1.        , 0.66666667],\n",
       "        [0.        , 0.66666667, 1.        ]]),\n",
       " 'categories': [-1.0, 0.0, 1.0]}"
      ]
     },
     "execution_count": 30,
     "metadata": {},
     "output_type": "execute_result"
    }
   ],
   "source": [
    "# calculation of AC2 for consolidated results\n",
    "cac_obj = CAC(create_evaluation_df(accepted),weights='ordinal')\n",
    "cac_obj.gwet()"
   ]
  }
 ],
 "metadata": {
  "kernelspec": {
   "display_name": "Python 3 (ipykernel)",
   "language": "python",
   "name": "python3"
  },
  "language_info": {
   "codemirror_mode": {
    "name": "ipython",
    "version": 3
   },
   "file_extension": ".py",
   "mimetype": "text/x-python",
   "name": "python",
   "nbconvert_exporter": "python",
   "pygments_lexer": "ipython3",
   "version": "3.10.4"
  }
 },
 "nbformat": 4,
 "nbformat_minor": 5
}
