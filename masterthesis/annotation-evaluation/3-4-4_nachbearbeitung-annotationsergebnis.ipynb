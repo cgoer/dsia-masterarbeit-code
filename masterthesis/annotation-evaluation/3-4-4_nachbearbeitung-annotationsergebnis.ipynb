{
 "cells": [
  {
   "cell_type": "markdown",
   "id": "3ea41578",
   "metadata": {},
   "source": [
    "# 3.4.4 Nachbearbeitung des Annnotationsergebnisses\n",
    "In diesem Notebook werden die Ergebnisse von Toloka bearbeitet. Die Evaluationsergebnisse werden in die Klassen positive, neutral und negative Zusammengeführt, abgelehnte Ergebnisse werden entfernt."
   ]
  },
  {
   "cell_type": "markdown",
   "id": "7350e95e",
   "metadata": {},
   "source": [
    "---\n",
    "\n",
    "### Package- und Datenimport"
   ]
  },
  {
   "cell_type": "code",
   "execution_count": 624,
   "id": "4fece0fe",
   "metadata": {},
   "outputs": [],
   "source": [
    "import pandas as pd\n",
    "import numpy as np\n",
    "from pymongo import MongoClient\n",
    "from irrCAC.raw import CAC"
   ]
  },
  {
   "cell_type": "code",
   "execution_count": 651,
   "id": "619b251e",
   "metadata": {},
   "outputs": [],
   "source": [
    "toloka_res = pd.read_csv('data/results_first_campaign_toloka.tsv', sep=\"\\t\")"
   ]
  },
  {
   "cell_type": "markdown",
   "id": "62a4efd9",
   "metadata": {},
   "source": [
    "---\n",
    "\n",
    "### Vorverarbeitung der Toloka-Ergebnisse\n",
    "\n",
    "Dieser Abschnitt beinhaltet die vorverarbeitung der Toloka Daten.\n",
    "Die erste Kampagne von Toloka wird in diesem Abschnitt bearbetet."
   ]
  },
  {
   "cell_type": "code",
   "execution_count": 626,
   "id": "f23f8735",
   "metadata": {},
   "outputs": [],
   "source": [
    "def one_hot_encode(df, field):\n",
    "    one_hot = pd.get_dummies(df[field])\n",
    "    # Drop original column as it is now encoded\n",
    "    df = df.drop(field,axis = 1)\n",
    "    # Join the encoded df\n",
    "    return df.join(one_hot) "
   ]
  },
  {
   "cell_type": "code",
   "execution_count": 627,
   "id": "f4774bdc",
   "metadata": {},
   "outputs": [],
   "source": [
    "def preprocess_toloka_results(df):\n",
    "    # drop unnecessary columns, convert values to int\n",
    "    df = df.drop(columns=['ASSIGNMENT:submitted', 'ASSIGNMENT:started','ASSIGNMENT:link','HINT:text','GOLDEN:senti_score','ASSIGNMENT:task_id','ASSIGNMENT:assignment_id','ASSIGNMENT:worker_id','ACCEPT:verdict','ACCEPT:comment','HINT:default_language'])\n",
    "    df = df.dropna(subset=['OUTPUT:senti_score'])\n",
    "    df['OUTPUT:senti_score'] = df['OUTPUT:senti_score'].astype(int)\n",
    "    # delete score if result was rejected\n",
    "    df['OUTPUT:senti_score'] = df.apply(lambda x: np.nan if x['ASSIGNMENT:status'] == 'REJECTED' else x['OUTPUT:senti_score'], axis=1)\n",
    "    # one hot encode scores and rejection status\n",
    "    df = one_hot_encode(df, 'OUTPUT:senti_score')\n",
    "    df = one_hot_encode(df, 'ASSIGNMENT:status')\n",
    "    # group results by sentence\n",
    "    grp = df.groupby(by=['INPUT:sentence'], as_index=True).sum()\n",
    "    # group answers of light positive/negative to pos/neg\n",
    "    grp['pos'] = grp[1.0] + grp [2.0]\n",
    "    grp['neg'] = grp[-1.0] + grp [-2.0]\n",
    "    grp['neu'] = grp[0.0]\n",
    "    return grp"
   ]
  },
  {
   "cell_type": "code",
   "execution_count": 628,
   "id": "cbe3dc32",
   "metadata": {},
   "outputs": [],
   "source": [
    "grp = preprocess_toloka_results(toloka_res)"
   ]
  },
  {
   "cell_type": "markdown",
   "id": "9dcec155",
   "metadata": {},
   "source": [
    "---\n",
    "\n",
    "### Berechnung des Gwet's AC2 Koeffizienten\n",
    "\n",
    "In diesem Abschnitt wird die Berechnung des Gwet's koeffizienten aufgesetzt. "
   ]
  },
  {
   "cell_type": "code",
   "execution_count": 631,
   "id": "0b39963a",
   "metadata": {},
   "outputs": [],
   "source": [
    "def create_evaluation_df(df):\n",
    "    ratings_list = []\n",
    "    for index, row in df.iterrows():\n",
    "        res_list = []\n",
    "        if row['neg'] > 0:\n",
    "            for count_neg in np.arange(0,row['neg']):\n",
    "                res_list.append(1)\n",
    "        if row['neu'] > 0:\n",
    "            for count_neu in np.arange(0,row['neu']):\n",
    "                res_list.append(0)\n",
    "        if row['pos'] > 0:\n",
    "            for count_pos in np.arange(0,row['pos']):\n",
    "                res_list.append(-1)\n",
    "        if row['REJECTED'] > 0:\n",
    "            for count_rej in np.arange(0,row['REJECTED']):\n",
    "                res_list.append(np.nan)\n",
    "        if (len(res_list) == 5):\n",
    "            ratings_list.append(res_list)\n",
    "    return pd.DataFrame(ratings_list, columns=['1','2','3','4','5'])"
   ]
  },
  {
   "cell_type": "code",
   "execution_count": 633,
   "id": "5c4e769f",
   "metadata": {},
   "outputs": [
    {
     "name": "stderr",
     "output_type": "stream",
     "text": [
      "/usr/local/Caskroom/miniconda/base/envs/masterthesis-goerner/lib/python3.10/site-packages/irrCAC/raw.py:165: SettingWithCopyWarning: \n",
      "A value is trying to be set on a copy of a slice from a DataFrame\n",
      "\n",
      "See the caveats in the documentation: https://pandas.pydata.org/pandas-docs/stable/user_guide/indexing.html#returning-a-view-versus-a-copy\n",
      "  self.ratings.replace(to_replace=\"\", value=np.nan, inplace=True)\n"
     ]
    },
    {
     "data": {
      "text/plain": [
       "{'est': {'coefficient_value': 0.24045,\n",
       "  'coefficient_name': 'AC2',\n",
       "  'confidence_interval': (0.21679, 0.26411),\n",
       "  'p_value': 0.0,\n",
       "  'z': 19.92578,\n",
       "  'se': 0.01207,\n",
       "  'pa': 0.70465,\n",
       "  'pe': 0.61115},\n",
       " 'weights': array([[1.        , 0.66666667, 0.        ],\n",
       "        [0.66666667, 1.        , 0.66666667],\n",
       "        [0.        , 0.66666667, 1.        ]]),\n",
       " 'categories': [-1.0, 0.0, 1.0]}"
      ]
     },
     "execution_count": 633,
     "metadata": {},
     "output_type": "execute_result"
    }
   ],
   "source": [
    "# calculation of AC2\n",
    "cac_obj = CAC(create_evaluation_df(grp),weights='ordinal')\n",
    "cac_obj.gwet()"
   ]
  },
  {
   "cell_type": "markdown",
   "id": "1312ba56",
   "metadata": {},
   "source": [
    "{'est': {'coefficient_value': 0.24045}}\n",
    "\n",
    "Der Koeffizient wird mit 0.24 angegeben, dabei gilt zu beachten dass alle abgelehnten Werte bereits als NaN dargestellt werden."
   ]
  },
  {
   "cell_type": "markdown",
   "id": "e6fc5ecf",
   "metadata": {},
   "source": [
    "---\n",
    "\n",
    "### Akzeptanz valider Ergebnisse\n",
    "\n",
    "In diesem Abschnitt werden alle Ergebnisse mit 4 oder mehr gleichen Antworten in ein set valider Antworten übernommen.\n",
    "Zudem werden alle ergebnisse als valide erachtet, welche 3 gleiche antworten haben und keine Antworten der 'gegenseitigen' klasse vorhanden sind (also positiv vs. negativ)\n"
   ]
  },
  {
   "cell_type": "code",
   "execution_count": 634,
   "id": "619aea93",
   "metadata": {},
   "outputs": [],
   "source": [
    "def accept_high_mijority(df):\n",
    "    accepted_neg = df[df['neg'] > 3]\n",
    "    accepted_neg['polarity'] = 'negative'\n",
    "\n",
    "    accepted_neu = df[df['neu'] > 3]\n",
    "    accepted_neu['polarity'] = 'neutral'\n",
    "\n",
    "    accepted_pos = df[df['pos'] > 3]\n",
    "    accepted_pos['polarity'] = 'positive'\n",
    "    return pd.concat([accepted_pos,accepted_neu,accepted_neg])\n",
    "     "
   ]
  },
  {
   "cell_type": "code",
   "execution_count": 635,
   "id": "fbe8c161",
   "metadata": {},
   "outputs": [],
   "source": [
    "def assign_tolerance_voting_polarity(df):\n",
    "    if (df['pos'] == 3 and df['neg'] == 0):\n",
    "        return 'positive'\n",
    "    elif (df['neg'] == 3 and df['pos'] == 0):\n",
    "        return 'negative'\n",
    "    elif (df['neu'] == 3 and df['neg'] == 0) or (df['neu'] == 3 and df['pos'] == 0):\n",
    "        return 'neutral'\n",
    "    else: \n",
    "        return None\n",
    "    \n",
    "def accept_medium_majority(df):\n",
    "    df['polarity'] = df.apply(lambda x: assign_tolerance_voting_polarity(x), axis=1 )\n",
    "    return df[~df['polarity'].isna()]"
   ]
  },
  {
   "cell_type": "code",
   "execution_count": 636,
   "id": "a501a898",
   "metadata": {},
   "outputs": [
    {
     "name": "stderr",
     "output_type": "stream",
     "text": [
      "/var/folders/sj/05cd3m9s4rd6g_j7lhcqb4x80000gp/T/ipykernel_83864/2159182803.py:3: SettingWithCopyWarning: \n",
      "A value is trying to be set on a copy of a slice from a DataFrame.\n",
      "Try using .loc[row_indexer,col_indexer] = value instead\n",
      "\n",
      "See the caveats in the documentation: https://pandas.pydata.org/pandas-docs/stable/user_guide/indexing.html#returning-a-view-versus-a-copy\n",
      "  accepted_neg['polarity'] = 'negative'\n",
      "/var/folders/sj/05cd3m9s4rd6g_j7lhcqb4x80000gp/T/ipykernel_83864/2159182803.py:6: SettingWithCopyWarning: \n",
      "A value is trying to be set on a copy of a slice from a DataFrame.\n",
      "Try using .loc[row_indexer,col_indexer] = value instead\n",
      "\n",
      "See the caveats in the documentation: https://pandas.pydata.org/pandas-docs/stable/user_guide/indexing.html#returning-a-view-versus-a-copy\n",
      "  accepted_neu['polarity'] = 'neutral'\n",
      "/var/folders/sj/05cd3m9s4rd6g_j7lhcqb4x80000gp/T/ipykernel_83864/2159182803.py:9: SettingWithCopyWarning: \n",
      "A value is trying to be set on a copy of a slice from a DataFrame.\n",
      "Try using .loc[row_indexer,col_indexer] = value instead\n",
      "\n",
      "See the caveats in the documentation: https://pandas.pydata.org/pandas-docs/stable/user_guide/indexing.html#returning-a-view-versus-a-copy\n",
      "  accepted_pos['polarity'] = 'positive'\n"
     ]
    },
    {
     "data": {
      "text/plain": [
       "neutral     0.855639\n",
       "positive    0.112782\n",
       "negative    0.031579\n",
       "Name: polarity, dtype: float64"
      ]
     },
     "execution_count": 636,
     "metadata": {},
     "output_type": "execute_result"
    }
   ],
   "source": [
    "# High Majority\n",
    "accepted = accept_high_mijority(grp)\n",
    "accepted['polarity'].value_counts(normalize=True)"
   ]
  },
  {
   "cell_type": "code",
   "execution_count": 637,
   "id": "840621d6",
   "metadata": {},
   "outputs": [
    {
     "data": {
      "text/plain": [
       "neutral     0.580093\n",
       "positive    0.301711\n",
       "negative    0.118196\n",
       "Name: polarity, dtype: float64"
      ]
     },
     "execution_count": 637,
     "metadata": {},
     "output_type": "execute_result"
    }
   ],
   "source": [
    "# Medium majority with tolerance\n",
    "accepted_tolerance = accept_medium_majority(grp)\n",
    "accepted_tolerance['polarity'].value_counts(normalize=True)"
   ]
  },
  {
   "cell_type": "code",
   "execution_count": 638,
   "id": "4fada7b5",
   "metadata": {},
   "outputs": [
    {
     "data": {
      "text/plain": [
       "neutral     0.720183\n",
       "positive    0.205657\n",
       "negative    0.074159\n",
       "Name: polarity, dtype: float64"
      ]
     },
     "execution_count": 638,
     "metadata": {},
     "output_type": "execute_result"
    }
   ],
   "source": [
    "accepted = pd.concat([accepted, accepted_tolerance])\n",
    "accepted['polarity'].value_counts(normalize=True)"
   ]
  },
  {
   "cell_type": "code",
   "execution_count": 639,
   "id": "7c1c3e95",
   "metadata": {},
   "outputs": [
    {
     "data": {
      "text/plain": [
       "0.16473551637279596"
      ]
     },
     "execution_count": 639,
     "metadata": {},
     "output_type": "execute_result"
    }
   ],
   "source": [
    "# Calculation of Acceptance rate\n",
    "len(accepted) / len(grp)"
   ]
  },
  {
   "cell_type": "code",
   "execution_count": 640,
   "id": "e8fc546d",
   "metadata": {},
   "outputs": [
    {
     "data": {
      "text/plain": [
       "{'est': {'coefficient_value': 0.78377,\n",
       "  'coefficient_name': 'AC2',\n",
       "  'confidence_interval': (0.77111, 0.79644),\n",
       "  'p_value': 0.0,\n",
       "  'z': 121.41009,\n",
       "  'se': 0.00646,\n",
       "  'pa': 0.88656,\n",
       "  'pe': 0.47536},\n",
       " 'weights': array([[1.        , 0.66666667, 0.        ],\n",
       "        [0.66666667, 1.        , 0.66666667],\n",
       "        [0.        , 0.66666667, 1.        ]]),\n",
       " 'categories': [-1.0, 0.0, 1.0]}"
      ]
     },
     "execution_count": 640,
     "metadata": {},
     "output_type": "execute_result"
    }
   ],
   "source": [
    "# Calculation of Gwet's AC2\n",
    "cac_obj = CAC(create_evaluation_df(accepted),weights='ordinal')\n",
    "cac_obj.gwet()"
   ]
  },
  {
   "cell_type": "markdown",
   "id": "731baa8d",
   "metadata": {},
   "source": [
    "---\n",
    "\n",
    "### Aufbereitung zweiter Toloka-Kampagne\n",
    "\n",
    "In diesem Abschnitt werden alle Sätze für eine erneute Toloka-Kampagne ermittelt. Diese sätze weisen mehr als 2 abgelehnte Sätze auf und können somit aufgrund fehlerhafter Antworten nicht als valide markiert werden."
   ]
  },
  {
   "cell_type": "code",
   "execution_count": 641,
   "id": "137bf8f6",
   "metadata": {},
   "outputs": [
    {
     "data": {
      "text/plain": [
       "5000"
      ]
     },
     "execution_count": 641,
     "metadata": {},
     "output_type": "execute_result"
    }
   ],
   "source": [
    "df = grp[grp['REJECTED'] > 2]\n",
    "len(df)"
   ]
  },
  {
   "cell_type": "code",
   "execution_count": 642,
   "id": "90a0a214",
   "metadata": {},
   "outputs": [
    {
     "name": "stderr",
     "output_type": "stream",
     "text": [
      "/var/folders/sj/05cd3m9s4rd6g_j7lhcqb4x80000gp/T/ipykernel_83864/2405244027.py:1: SettingWithCopyWarning: \n",
      "A value is trying to be set on a copy of a slice from a DataFrame.\n",
      "Try using .loc[row_indexer,col_indexer] = value instead\n",
      "\n",
      "See the caveats in the documentation: https://pandas.pydata.org/pandas-docs/stable/user_guide/indexing.html#returning-a-view-versus-a-copy\n",
      "  df['INPUT:sentence'] = df.index\n"
     ]
    }
   ],
   "source": [
    "df['INPUT:sentence'] = df.index\n",
    "#df.to_csv('toloka.tsv', sep=\"\\t\", index=False)"
   ]
  },
  {
   "cell_type": "markdown",
   "id": "7329405d",
   "metadata": {},
   "source": [
    "---\n",
    "### Import und Aufbereitung der Ergebnisse der zweiten Toloka-Kampagne\n",
    "\n",
    "In diesem Abschnitt werden die Ergebnisse der zweiten Toloka-Kampagne importiert und mit den Ergebnissen der 1. Kampagne (nur alle Sätze mit Ablehnungsrate <= 2) vereinigt. "
   ]
  },
  {
   "cell_type": "code",
   "execution_count": 643,
   "id": "cedb2168",
   "metadata": {},
   "outputs": [],
   "source": [
    "toloka_res2 = pd.read_csv('data/results_second_campaign_toloka.tsv', sep=\"\\t\")\n",
    "grp2 = preprocess_toloka_results(toloka_res2)"
   ]
  },
  {
   "cell_type": "code",
   "execution_count": 644,
   "id": "01117d5f",
   "metadata": {},
   "outputs": [],
   "source": [
    "final_grp = pd.concat([grp[grp['REJECTED'] <= 2],grp2])"
   ]
  },
  {
   "cell_type": "code",
   "execution_count": 645,
   "id": "fe0e27d0",
   "metadata": {},
   "outputs": [
    {
     "data": {
      "text/plain": [
       "{'est': {'coefficient_value': 0.25151,\n",
       "  'coefficient_name': 'AC2',\n",
       "  'confidence_interval': (0.2394, 0.26363),\n",
       "  'p_value': 0.0,\n",
       "  'z': 40.69262,\n",
       "  'se': 0.00618,\n",
       "  'pa': 0.70893,\n",
       "  'pe': 0.61112},\n",
       " 'weights': array([[1.        , 0.66666667, 0.        ],\n",
       "        [0.66666667, 1.        , 0.66666667],\n",
       "        [0.        , 0.66666667, 1.        ]]),\n",
       " 'categories': [-1.0, 0.0, 1.0]}"
      ]
     },
     "execution_count": 645,
     "metadata": {},
     "output_type": "execute_result"
    }
   ],
   "source": [
    "cac_obj = CAC(create_evaluation_df(final_grp),weights='ordinal')\n",
    "cac_obj.gwet()"
   ]
  },
  {
   "cell_type": "markdown",
   "id": "a5790b2d",
   "metadata": {},
   "source": [
    "---\n",
    "\n",
    "### Akzeptanz valider Ergebnisse\n",
    "\n",
    "In diesem Abschnitt werden alle Ergebnisse mit 4 oder mehr gleichen Antworten in ein set valider Antworten übernommen.\n",
    "Zudem werden alle ergebnisse als valide erachtet, welche 3 gleiche antworten haben und keine Antworten der 'gegenseitigen' klasse vorhanden sind (also positiv vs. negativ)\n",
    "\n"
   ]
  },
  {
   "cell_type": "code",
   "execution_count": 646,
   "id": "eb0252df",
   "metadata": {},
   "outputs": [
    {
     "name": "stderr",
     "output_type": "stream",
     "text": [
      "/var/folders/sj/05cd3m9s4rd6g_j7lhcqb4x80000gp/T/ipykernel_83864/2159182803.py:3: SettingWithCopyWarning: \n",
      "A value is trying to be set on a copy of a slice from a DataFrame.\n",
      "Try using .loc[row_indexer,col_indexer] = value instead\n",
      "\n",
      "See the caveats in the documentation: https://pandas.pydata.org/pandas-docs/stable/user_guide/indexing.html#returning-a-view-versus-a-copy\n",
      "  accepted_neg['polarity'] = 'negative'\n",
      "/var/folders/sj/05cd3m9s4rd6g_j7lhcqb4x80000gp/T/ipykernel_83864/2159182803.py:6: SettingWithCopyWarning: \n",
      "A value is trying to be set on a copy of a slice from a DataFrame.\n",
      "Try using .loc[row_indexer,col_indexer] = value instead\n",
      "\n",
      "See the caveats in the documentation: https://pandas.pydata.org/pandas-docs/stable/user_guide/indexing.html#returning-a-view-versus-a-copy\n",
      "  accepted_neu['polarity'] = 'neutral'\n",
      "/var/folders/sj/05cd3m9s4rd6g_j7lhcqb4x80000gp/T/ipykernel_83864/2159182803.py:9: SettingWithCopyWarning: \n",
      "A value is trying to be set on a copy of a slice from a DataFrame.\n",
      "Try using .loc[row_indexer,col_indexer] = value instead\n",
      "\n",
      "See the caveats in the documentation: https://pandas.pydata.org/pandas-docs/stable/user_guide/indexing.html#returning-a-view-versus-a-copy\n",
      "  accepted_pos['polarity'] = 'positive'\n"
     ]
    },
    {
     "data": {
      "text/plain": [
       "neutral     0.642391\n",
       "positive    0.220652\n",
       "negative    0.136957\n",
       "Name: polarity, dtype: float64"
      ]
     },
     "execution_count": 646,
     "metadata": {},
     "output_type": "execute_result"
    }
   ],
   "source": [
    "# High Majority\n",
    "combined_accepted = accept_high_mijority(final_grp)\n",
    "combined_accepted['polarity'].value_counts(normalize=True)"
   ]
  },
  {
   "cell_type": "code",
   "execution_count": 647,
   "id": "34024845",
   "metadata": {},
   "outputs": [
    {
     "data": {
      "text/plain": [
       "neutral     0.549693\n",
       "positive    0.285861\n",
       "negative    0.164447\n",
       "Name: polarity, dtype: float64"
      ]
     },
     "execution_count": 647,
     "metadata": {},
     "output_type": "execute_result"
    }
   ],
   "source": [
    "# Medium majority with tolerance\n",
    "combined_accepted_tolerance = accept_medium_majority(new_grp)\n",
    "combined_accepted_tolerance['polarity'].value_counts(normalize=True)"
   ]
  },
  {
   "cell_type": "code",
   "execution_count": 648,
   "id": "1aff3697",
   "metadata": {},
   "outputs": [
    {
     "data": {
      "text/plain": [
       "neutral     0.594673\n",
       "positive    0.254219\n",
       "negative    0.151108\n",
       "Name: polarity, dtype: float64"
      ]
     },
     "execution_count": 648,
     "metadata": {},
     "output_type": "execute_result"
    }
   ],
   "source": [
    "combined_accepted = pd.concat([combined_accepted, combined_accepted_tolerance])\n",
    "combined_accepted['polarity'].value_counts(normalize=True)"
   ]
  },
  {
   "cell_type": "code",
   "execution_count": 649,
   "id": "cd33bcf7",
   "metadata": {},
   "outputs": [
    {
     "data": {
      "text/plain": [
       "0.47758186397984886"
      ]
     },
     "execution_count": 649,
     "metadata": {},
     "output_type": "execute_result"
    }
   ],
   "source": [
    "# Calculation of Acceptance rate\n",
    "len(combined_accepted) / len(final_grp)"
   ]
  },
  {
   "cell_type": "code",
   "execution_count": 650,
   "id": "ce484541",
   "metadata": {},
   "outputs": [
    {
     "data": {
      "text/plain": [
       "{'est': {'coefficient_value': 0.6546,\n",
       "  'coefficient_name': 'AC2',\n",
       "  'confidence_interval': (0.64526, 0.66394),\n",
       "  'p_value': 0.0,\n",
       "  'z': 137.45034,\n",
       "  'se': 0.00476,\n",
       "  'pa': 0.84641,\n",
       "  'pe': 0.55532},\n",
       " 'weights': array([[1.        , 0.66666667, 0.        ],\n",
       "        [0.66666667, 1.        , 0.66666667],\n",
       "        [0.        , 0.66666667, 1.        ]]),\n",
       " 'categories': [-1.0, 0.0, 1.0]}"
      ]
     },
     "execution_count": 650,
     "metadata": {},
     "output_type": "execute_result"
    }
   ],
   "source": [
    "# Calculation of Gwet's AC2\n",
    "cac_obj = CAC(create_evaluation_df(combined_accepted),weights='ordinal')\n",
    "cac_obj.gwet()"
   ]
  },
  {
   "cell_type": "markdown",
   "id": "d1b95a71",
   "metadata": {},
   "source": [
    "---\n",
    "\n",
    "### Hinzufügen von Metadaten\n",
    "\n",
    "In diesem Abshcnitt werden Metadaten hinzugefügt und der Datensatz in der Datenbank abgelegt."
   ]
  },
  {
   "cell_type": "code",
   "execution_count": 523,
   "id": "e97e9c95",
   "metadata": {},
   "outputs": [],
   "source": [
    "combined_accepted['sentence'] = combined_accepted.index"
   ]
  },
  {
   "cell_type": "code",
   "execution_count": 524,
   "id": "6e470c32",
   "metadata": {},
   "outputs": [],
   "source": [
    "def get_client():\n",
    "    return MongoClient('mongodb://{}:{}@{}:{}'.format(\n",
    "        'root',\n",
    "        'root',\n",
    "        '0.0.0.0',\n",
    "        '27017',\n",
    "    ))\n",
    "\n",
    "def get_database():\n",
    "    client = get_client()\n",
    "    return client.get_database('masterthesis-goerner')\n",
    "\n",
    "db = get_database()\n",
    "cursor = db['sample'].find({})\n",
    "sample =  pd.DataFrame(list(cursor))"
   ]
  },
  {
   "cell_type": "code",
   "execution_count": 525,
   "id": "aa844556",
   "metadata": {},
   "outputs": [],
   "source": [
    "combined_accepted = pd.merge(combined_accepted,sample.drop_duplicates(['sentence_toloka']),how='left', left_on=\"INPUT:sentence\", right_on=\"sentence_toloka\",suffixes=('', '_sample'))\n"
   ]
  },
  {
   "cell_type": "code",
   "execution_count": 526,
   "id": "086c43fa",
   "metadata": {},
   "outputs": [],
   "source": [
    "combined_accepted = accepted.drop(columns=['sentence_toloka',-2.0,-1.0,0.0,1.0,2.0,'APPROVED','REJECTED','pos','neg','neu','sentence','_id','HINT:default_language'])"
   ]
  },
  {
   "cell_type": "code",
   "execution_count": 527,
   "id": "6e382c0c",
   "metadata": {},
   "outputs": [
    {
     "data": {
      "text/plain": [
       "<pymongo.results.InsertManyResult at 0x7fd7c0f70340>"
      ]
     },
     "execution_count": 527,
     "metadata": {},
     "output_type": "execute_result"
    }
   ],
   "source": [
    "#db.annotationresults.insert_many(combined_accepted.to_dict('records'))"
   ]
  }
 ],
 "metadata": {
  "kernelspec": {
   "display_name": "Python 3 (ipykernel)",
   "language": "python",
   "name": "python3"
  },
  "language_info": {
   "codemirror_mode": {
    "name": "ipython",
    "version": 3
   },
   "file_extension": ".py",
   "mimetype": "text/x-python",
   "name": "python",
   "nbconvert_exporter": "python",
   "pygments_lexer": "ipython3",
   "version": "3.10.4"
  }
 },
 "nbformat": 4,
 "nbformat_minor": 5
}
