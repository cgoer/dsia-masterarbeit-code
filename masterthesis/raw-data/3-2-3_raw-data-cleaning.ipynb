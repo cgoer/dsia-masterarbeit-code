{
 "cells": [
  {
   "cell_type": "markdown",
   "metadata": {},
   "source": [
    "# 3.2.3: Bereinigung der Rohdaten"
   ]
  },
  {
   "cell_type": "markdown",
   "metadata": {},
   "source": [
    "In diesem Notebook werden die aus Newsplease extrahierten Rohdatensätze bereinigt.\n",
    "\n",
    "---"
   ]
  },
  {
   "cell_type": "markdown",
   "metadata": {},
   "source": [
    "### Package- und Datenimport"
   ]
  },
  {
   "cell_type": "code",
   "execution_count": 42,
   "metadata": {},
   "outputs": [],
   "source": [
    "import pandas as pd\n",
    "from pymongo import MongoClient"
   ]
  },
  {
   "cell_type": "code",
   "execution_count": 79,
   "metadata": {},
   "outputs": [],
   "source": [
    "def get_client():\n",
    "    return MongoClient('mongodb://{}:{}@{}:{}'.format(\n",
    "        'root',\n",
    "        'root',\n",
    "        '0.0.0.0',\n",
    "        '27017',\n",
    "    ))\n",
    "\n",
    "def get_database():\n",
    "    client = get_client()\n",
    "    return client.get_database('masterthesis-goerner')\n",
    "db = get_database()\n",
    "cursor = db['newspleasedata'].find({\"url_source\":\"thenewsapidata\"})\n",
    "newspleasedata =  pd.DataFrame(list(cursor))"
   ]
  },
  {
   "cell_type": "markdown",
   "metadata": {},
   "source": [
    "---\n",
    "\n",
    "### Analyse und Bereinigung der Datentypen\n",
    "\n",
    "In diesem Abschnitt wird die Beschaffenheit der Daten betrachtet. Datentypen (z.B. Datumswerte) werden in ein korrektes Format umgewandelt, ungenutzte Spalten werden entfernt"
   ]
  },
  {
   "cell_type": "code",
   "execution_count": 80,
   "metadata": {},
   "outputs": [
    {
     "data": {
      "text/html": [
       "<div>\n",
       "<style scoped>\n",
       "    .dataframe tbody tr th:only-of-type {\n",
       "        vertical-align: middle;\n",
       "    }\n",
       "\n",
       "    .dataframe tbody tr th {\n",
       "        vertical-align: top;\n",
       "    }\n",
       "\n",
       "    .dataframe thead th {\n",
       "        text-align: right;\n",
       "    }\n",
       "</style>\n",
       "<table border=\"1\" class=\"dataframe\">\n",
       "  <thead>\n",
       "    <tr style=\"text-align: right;\">\n",
       "      <th></th>\n",
       "      <th>_id</th>\n",
       "      <th>date_download</th>\n",
       "      <th>authors</th>\n",
       "      <th>date_modify</th>\n",
       "      <th>date_publish</th>\n",
       "      <th>description</th>\n",
       "      <th>language</th>\n",
       "      <th>maintext</th>\n",
       "      <th>source_domain</th>\n",
       "      <th>text</th>\n",
       "      <th>title</th>\n",
       "      <th>url</th>\n",
       "      <th>url_source</th>\n",
       "      <th>url_id</th>\n",
       "    </tr>\n",
       "  </thead>\n",
       "  <tbody>\n",
       "    <tr>\n",
       "      <th>0</th>\n",
       "      <td>b05240edd3a84e8889afc5ae1b4e7d03</td>\n",
       "      <td>2022-07-31 03:01:27</td>\n",
       "      <td>[]</td>\n",
       "      <td>None</td>\n",
       "      <td>2021-12-09 00:00:00</td>\n",
       "      <td>Die FDP-Gruppe im Thüringer Landtag sieht die ...</td>\n",
       "      <td>de</td>\n",
       "      <td>Erfurt Thüringer FDP sieht Impfpflicht für Pfl...</td>\n",
       "      <td>www.t-online.de</td>\n",
       "      <td>None</td>\n",
       "      <td>Thüringer FDP sieht Impfpflicht für Pflegekräf...</td>\n",
       "      <td>https://www.t-online.de/region/erfurt/news/id_...</td>\n",
       "      <td>thenewsapidata</td>\n",
       "      <td>00000219a6ba4253a97ec415de3620da</td>\n",
       "    </tr>\n",
       "    <tr>\n",
       "      <th>1</th>\n",
       "      <td>b2df44280ce94148bd2f3439e48c14e2</td>\n",
       "      <td>2022-07-31 03:01:28</td>\n",
       "      <td>[]</td>\n",
       "      <td>None</td>\n",
       "      <td>2021-09-09 15:05:15</td>\n",
       "      <td>Leyla (27) macht eine Ausbildung zur Fitnesstr...</td>\n",
       "      <td>de</td>\n",
       "      <td>Leyla (27) macht eine Ausbildung zur Fitnesstr...</td>\n",
       "      <td>www.20min.ch</td>\n",
       "      <td>None</td>\n",
       "      <td>Fitnessszene sauer über Zertifikatspflicht - \"...</td>\n",
       "      <td>https://www.20min.ch/video/wenn-ich-mich-impfe...</td>\n",
       "      <td>thenewsapidata</td>\n",
       "      <td>0882b5c53bad49878e537367fd504962</td>\n",
       "    </tr>\n",
       "    <tr>\n",
       "      <th>2</th>\n",
       "      <td>9ec66d8a1080432e87cd72eb25832f7f</td>\n",
       "      <td>2022-07-31 03:01:28</td>\n",
       "      <td>[N-Tv Nachrichten]</td>\n",
       "      <td>None</td>\n",
       "      <td>2022-04-29 00:32:00</td>\n",
       "      <td>Unfälle, Naturkatastrophen, Brände und Krimina...</td>\n",
       "      <td>de</td>\n",
       "      <td>Liebe Leserinnen und Leser,\\nnach 794 Tagen un...</td>\n",
       "      <td>www.n-tv.de</td>\n",
       "      <td>None</td>\n",
       "      <td>Coronavirus-Liveticker: +++ 21:52 Moderna bean...</td>\n",
       "      <td>https://www.n-tv.de/panorama/04-54-RKI-meldet-...</td>\n",
       "      <td>thenewsapidata</td>\n",
       "      <td>00000cb041894b02be3e076e1fc2f8c9</td>\n",
       "    </tr>\n",
       "    <tr>\n",
       "      <th>3</th>\n",
       "      <td>ac940ccc3f844aa2a372ec8ce59449c0</td>\n",
       "      <td>2022-07-31 03:01:29</td>\n",
       "      <td>[Alisha Pälmke, - Uhr]</td>\n",
       "      <td>None</td>\n",
       "      <td>2022-05-01 19:19:48</td>\n",
       "      <td>Superstars sind eben auch nur Menschen – mit m...</td>\n",
       "      <td>de</td>\n",
       "      <td>Superstars sind eben auch nur Menschen – mit m...</td>\n",
       "      <td>www.bild.de</td>\n",
       "      <td>None</td>\n",
       "      <td>Bill Kaulitz, Lady Gaga und Co.: Skurrile Extr...</td>\n",
       "      <td>https://www.bild.de/bild-plus/unterhaltung/leu...</td>\n",
       "      <td>thenewsapidata</td>\n",
       "      <td>11085d692ae640d9b4004adf9845815c</td>\n",
       "    </tr>\n",
       "    <tr>\n",
       "      <th>4</th>\n",
       "      <td>2fa892681e434f478700bd557101a74f</td>\n",
       "      <td>2022-07-31 03:01:29</td>\n",
       "      <td>[Von, Özlem Evans]</td>\n",
       "      <td>None</td>\n",
       "      <td>2021-09-24 08:41:00</td>\n",
       "      <td>Jetzt kommen die Schätze von Karl Lagerfeld (†...</td>\n",
       "      <td>de</td>\n",
       "      <td>So viel ist Karls eigene Chanel-Tasche wert\\nD...</td>\n",
       "      <td>www.bild.de</td>\n",
       "      <td>None</td>\n",
       "      <td>Lagerfeld-Schätze werden versteigert: Unfassba...</td>\n",
       "      <td>https://www.bild.de/bild-plus/unterhaltung/leu...</td>\n",
       "      <td>thenewsapidata</td>\n",
       "      <td>1108603d33214c32bfe909cc923aa3ce</td>\n",
       "    </tr>\n",
       "    <tr>\n",
       "      <th>...</th>\n",
       "      <td>...</td>\n",
       "      <td>...</td>\n",
       "      <td>...</td>\n",
       "      <td>...</td>\n",
       "      <td>...</td>\n",
       "      <td>...</td>\n",
       "      <td>...</td>\n",
       "      <td>...</td>\n",
       "      <td>...</td>\n",
       "      <td>...</td>\n",
       "      <td>...</td>\n",
       "      <td>...</td>\n",
       "      <td>...</td>\n",
       "      <td>...</td>\n",
       "    </tr>\n",
       "    <tr>\n",
       "      <th>972087</th>\n",
       "      <td>8a4d668c65aa4389b9b4d47885ad6ffb</td>\n",
       "      <td>2022-08-16 01:30:37</td>\n",
       "      <td>[]</td>\n",
       "      <td>None</td>\n",
       "      <td>2022-03-30 17:05:41</td>\n",
       "      <td>Das Abwasser-Monitoring gewinnt mit der Redukt...</td>\n",
       "      <td>de</td>\n",
       "      <td>Das Abwasser-Monitoring gewinnt mit der Redukt...</td>\n",
       "      <td>www.derstandard.at</td>\n",
       "      <td>None</td>\n",
       "      <td>Coronaviren-Last im Abwasser stagniert</td>\n",
       "      <td>https://www.derstandard.at/story/2000134552514...</td>\n",
       "      <td>thenewsapidata</td>\n",
       "      <td>8d282a13e74848989c1b45f5ccd0ee32</td>\n",
       "    </tr>\n",
       "    <tr>\n",
       "      <th>972088</th>\n",
       "      <td>3d5d7debde904c92b6c35915fae61520</td>\n",
       "      <td>2022-08-16 01:30:37</td>\n",
       "      <td>[]</td>\n",
       "      <td>None</td>\n",
       "      <td>2022-03-30 16:53:45</td>\n",
       "      <td>Der Sitzungsmarathon der Landesflüchtlingsrefe...</td>\n",
       "      <td>de</td>\n",
       "      <td>Der Sitzungsmarathon der Landesflüchtlingsrefe...</td>\n",
       "      <td>www.derstandard.at</td>\n",
       "      <td>None</td>\n",
       "      <td>Mehr Geld für privat untergebrachte Ukraine-Fl...</td>\n",
       "      <td>https://www.derstandard.at/story/2000134554305...</td>\n",
       "      <td>thenewsapidata</td>\n",
       "      <td>121363eea79a49e7bf77d5e13d3763ec</td>\n",
       "    </tr>\n",
       "    <tr>\n",
       "      <th>972089</th>\n",
       "      <td>d0b1b3b899c8441b93439def4a4054b0</td>\n",
       "      <td>2022-08-16 01:30:37</td>\n",
       "      <td>[]</td>\n",
       "      <td>None</td>\n",
       "      <td>2022-03-30 16:41:31</td>\n",
       "      <td>Es war das dritte Attentat innerhalb einer Woc...</td>\n",
       "      <td>de</td>\n",
       "      <td>Es war das dritte Attentat innerhalb einer Woc...</td>\n",
       "      <td>www.derstandard.at</td>\n",
       "      <td>None</td>\n",
       "      <td>Sorge vor neuer Terrorwelle nach weiterem Ansc...</td>\n",
       "      <td>https://www.derstandard.at/story/2000134551754...</td>\n",
       "      <td>thenewsapidata</td>\n",
       "      <td>fbe6afd8d45c434cbec0335be5c84184</td>\n",
       "    </tr>\n",
       "    <tr>\n",
       "      <th>972090</th>\n",
       "      <td>2fa38d7c58094713ba01718397751836</td>\n",
       "      <td>2022-08-16 01:30:37</td>\n",
       "      <td>[]</td>\n",
       "      <td>None</td>\n",
       "      <td>2022-03-30 16:40:51</td>\n",
       "      <td>Putins jahrelange Kontaktpflege in der Sportwe...</td>\n",
       "      <td>de</td>\n",
       "      <td>Putins jahrelange Kontaktpflege in der Sportwe...</td>\n",
       "      <td>www.derstandard.at</td>\n",
       "      <td>None</td>\n",
       "      <td>Ukraine-Konflikt: Das Schweigen russischer Spo...</td>\n",
       "      <td>https://www.derstandard.at/story/2000134554329...</td>\n",
       "      <td>thenewsapidata</td>\n",
       "      <td>05c1a441074a47f48198c8e8559f5a07</td>\n",
       "    </tr>\n",
       "    <tr>\n",
       "      <th>972091</th>\n",
       "      <td>dfcf85c275f949e2b33acc4423c97fb3</td>\n",
       "      <td>2022-08-16 01:30:38</td>\n",
       "      <td>[]</td>\n",
       "      <td>None</td>\n",
       "      <td>2022-03-30 16:35:57</td>\n",
       "      <td>Themenfonds stehen bei Anlegern hoch im Kurs. ...</td>\n",
       "      <td>de</td>\n",
       "      <td>Themenfonds stehen bei Anlegern hoch im Kurs. ...</td>\n",
       "      <td>www.derstandard.at</td>\n",
       "      <td>None</td>\n",
       "      <td>Themenfonds werden stark nachgefragt, eine sic...</td>\n",
       "      <td>https://www.derstandard.at/story/2000134553877...</td>\n",
       "      <td>thenewsapidata</td>\n",
       "      <td>04d072db332f4f80bef2e4576f19d3bc</td>\n",
       "    </tr>\n",
       "  </tbody>\n",
       "</table>\n",
       "<p>972092 rows × 14 columns</p>\n",
       "</div>"
      ],
      "text/plain": [
       "                                     _id        date_download  \\\n",
       "0       b05240edd3a84e8889afc5ae1b4e7d03  2022-07-31 03:01:27   \n",
       "1       b2df44280ce94148bd2f3439e48c14e2  2022-07-31 03:01:28   \n",
       "2       9ec66d8a1080432e87cd72eb25832f7f  2022-07-31 03:01:28   \n",
       "3       ac940ccc3f844aa2a372ec8ce59449c0  2022-07-31 03:01:29   \n",
       "4       2fa892681e434f478700bd557101a74f  2022-07-31 03:01:29   \n",
       "...                                  ...                  ...   \n",
       "972087  8a4d668c65aa4389b9b4d47885ad6ffb  2022-08-16 01:30:37   \n",
       "972088  3d5d7debde904c92b6c35915fae61520  2022-08-16 01:30:37   \n",
       "972089  d0b1b3b899c8441b93439def4a4054b0  2022-08-16 01:30:37   \n",
       "972090  2fa38d7c58094713ba01718397751836  2022-08-16 01:30:37   \n",
       "972091  dfcf85c275f949e2b33acc4423c97fb3  2022-08-16 01:30:38   \n",
       "\n",
       "                       authors date_modify         date_publish  \\\n",
       "0                           []        None  2021-12-09 00:00:00   \n",
       "1                           []        None  2021-09-09 15:05:15   \n",
       "2           [N-Tv Nachrichten]        None  2022-04-29 00:32:00   \n",
       "3       [Alisha Pälmke, - Uhr]        None  2022-05-01 19:19:48   \n",
       "4           [Von, Özlem Evans]        None  2021-09-24 08:41:00   \n",
       "...                        ...         ...                  ...   \n",
       "972087                      []        None  2022-03-30 17:05:41   \n",
       "972088                      []        None  2022-03-30 16:53:45   \n",
       "972089                      []        None  2022-03-30 16:41:31   \n",
       "972090                      []        None  2022-03-30 16:40:51   \n",
       "972091                      []        None  2022-03-30 16:35:57   \n",
       "\n",
       "                                              description language  \\\n",
       "0       Die FDP-Gruppe im Thüringer Landtag sieht die ...       de   \n",
       "1       Leyla (27) macht eine Ausbildung zur Fitnesstr...       de   \n",
       "2       Unfälle, Naturkatastrophen, Brände und Krimina...       de   \n",
       "3       Superstars sind eben auch nur Menschen – mit m...       de   \n",
       "4       Jetzt kommen die Schätze von Karl Lagerfeld (†...       de   \n",
       "...                                                   ...      ...   \n",
       "972087  Das Abwasser-Monitoring gewinnt mit der Redukt...       de   \n",
       "972088  Der Sitzungsmarathon der Landesflüchtlingsrefe...       de   \n",
       "972089  Es war das dritte Attentat innerhalb einer Woc...       de   \n",
       "972090  Putins jahrelange Kontaktpflege in der Sportwe...       de   \n",
       "972091  Themenfonds stehen bei Anlegern hoch im Kurs. ...       de   \n",
       "\n",
       "                                                 maintext       source_domain  \\\n",
       "0       Erfurt Thüringer FDP sieht Impfpflicht für Pfl...     www.t-online.de   \n",
       "1       Leyla (27) macht eine Ausbildung zur Fitnesstr...        www.20min.ch   \n",
       "2       Liebe Leserinnen und Leser,\\nnach 794 Tagen un...         www.n-tv.de   \n",
       "3       Superstars sind eben auch nur Menschen – mit m...         www.bild.de   \n",
       "4       So viel ist Karls eigene Chanel-Tasche wert\\nD...         www.bild.de   \n",
       "...                                                   ...                 ...   \n",
       "972087  Das Abwasser-Monitoring gewinnt mit der Redukt...  www.derstandard.at   \n",
       "972088  Der Sitzungsmarathon der Landesflüchtlingsrefe...  www.derstandard.at   \n",
       "972089  Es war das dritte Attentat innerhalb einer Woc...  www.derstandard.at   \n",
       "972090  Putins jahrelange Kontaktpflege in der Sportwe...  www.derstandard.at   \n",
       "972091  Themenfonds stehen bei Anlegern hoch im Kurs. ...  www.derstandard.at   \n",
       "\n",
       "        text                                              title  \\\n",
       "0       None  Thüringer FDP sieht Impfpflicht für Pflegekräf...   \n",
       "1       None  Fitnessszene sauer über Zertifikatspflicht - \"...   \n",
       "2       None  Coronavirus-Liveticker: +++ 21:52 Moderna bean...   \n",
       "3       None  Bill Kaulitz, Lady Gaga und Co.: Skurrile Extr...   \n",
       "4       None  Lagerfeld-Schätze werden versteigert: Unfassba...   \n",
       "...      ...                                                ...   \n",
       "972087  None             Coronaviren-Last im Abwasser stagniert   \n",
       "972088  None  Mehr Geld für privat untergebrachte Ukraine-Fl...   \n",
       "972089  None  Sorge vor neuer Terrorwelle nach weiterem Ansc...   \n",
       "972090  None  Ukraine-Konflikt: Das Schweigen russischer Spo...   \n",
       "972091  None  Themenfonds werden stark nachgefragt, eine sic...   \n",
       "\n",
       "                                                      url      url_source  \\\n",
       "0       https://www.t-online.de/region/erfurt/news/id_...  thenewsapidata   \n",
       "1       https://www.20min.ch/video/wenn-ich-mich-impfe...  thenewsapidata   \n",
       "2       https://www.n-tv.de/panorama/04-54-RKI-meldet-...  thenewsapidata   \n",
       "3       https://www.bild.de/bild-plus/unterhaltung/leu...  thenewsapidata   \n",
       "4       https://www.bild.de/bild-plus/unterhaltung/leu...  thenewsapidata   \n",
       "...                                                   ...             ...   \n",
       "972087  https://www.derstandard.at/story/2000134552514...  thenewsapidata   \n",
       "972088  https://www.derstandard.at/story/2000134554305...  thenewsapidata   \n",
       "972089  https://www.derstandard.at/story/2000134551754...  thenewsapidata   \n",
       "972090  https://www.derstandard.at/story/2000134554329...  thenewsapidata   \n",
       "972091  https://www.derstandard.at/story/2000134553877...  thenewsapidata   \n",
       "\n",
       "                                  url_id  \n",
       "0       00000219a6ba4253a97ec415de3620da  \n",
       "1       0882b5c53bad49878e537367fd504962  \n",
       "2       00000cb041894b02be3e076e1fc2f8c9  \n",
       "3       11085d692ae640d9b4004adf9845815c  \n",
       "4       1108603d33214c32bfe909cc923aa3ce  \n",
       "...                                  ...  \n",
       "972087  8d282a13e74848989c1b45f5ccd0ee32  \n",
       "972088  121363eea79a49e7bf77d5e13d3763ec  \n",
       "972089  fbe6afd8d45c434cbec0335be5c84184  \n",
       "972090  05c1a441074a47f48198c8e8559f5a07  \n",
       "972091  04d072db332f4f80bef2e4576f19d3bc  \n",
       "\n",
       "[972092 rows x 14 columns]"
      ]
     },
     "execution_count": 80,
     "metadata": {},
     "output_type": "execute_result"
    }
   ],
   "source": [
    "newspleasedata"
   ]
  },
  {
   "cell_type": "code",
   "execution_count": 81,
   "metadata": {},
   "outputs": [
    {
     "data": {
      "text/plain": [
       "_id                   0\n",
       "date_download         0\n",
       "authors               0\n",
       "date_modify           0\n",
       "date_publish          0\n",
       "description       49802\n",
       "language              2\n",
       "maintext          10683\n",
       "source_domain         0\n",
       "text             972092\n",
       "title                11\n",
       "url                   0\n",
       "url_source            0\n",
       "url_id                0\n",
       "dtype: int64"
      ]
     },
     "execution_count": 81,
     "metadata": {},
     "output_type": "execute_result"
    }
   ],
   "source": [
    "newspleasedata.isna().sum()"
   ]
  },
  {
   "cell_type": "markdown",
   "metadata": {},
   "source": [
    "Die Anzahl der Nullwerte zeigt, dass die Spalte text in allen 972092 Datensätzen leer ist. Sie wird daher später entfernt. "
   ]
  },
  {
   "cell_type": "code",
   "execution_count": 82,
   "metadata": {},
   "outputs": [],
   "source": [
    "# normalize string values\n",
    "newspleasedata['description'] = newspleasedata['description'].astype(str)\n",
    "newspleasedata['language'] = newspleasedata['language'].astype(str)\n",
    "newspleasedata['maintext'] = newspleasedata['maintext'].astype(str)\n",
    "newspleasedata['source_domain'] = newspleasedata['source_domain'].astype(str)\n",
    "newspleasedata['title'] = newspleasedata['title'].astype(str)\n",
    "newspleasedata['url'] = newspleasedata['url'].astype(str)\n",
    "newspleasedata['url_source'] = newspleasedata['url_source'].astype(str)\n",
    "newspleasedata['url_id'] = newspleasedata['url_id'].astype(str)"
   ]
  },
  {
   "cell_type": "code",
   "execution_count": 83,
   "metadata": {},
   "outputs": [],
   "source": [
    "# normalize Date format\n",
    "newspleasedata['date_modify'] = pd.to_datetime(newspleasedata['date_modify'], errors='coerce')\n",
    "newspleasedata['date_publish'] = pd.to_datetime(newspleasedata['date_publish'], errors='coerce')"
   ]
  },
  {
   "cell_type": "markdown",
   "metadata": {},
   "source": [
    "Im folgenden Schritt werden die Spalten 'text' und 'url_source' entfernt. 'url_source' wird entfernt, da diese bei allen Datensätzen den gleichen Wert enthält. Ebenso entfernt wird die Spalte category, da diese Information für den späteren Datensatz irrelevant ist. Auch die Artikelbeschreibungen werden entfernt, der Fokus dieser Arbeit richtet sich auf den Haupttext der Artikel."
   ]
  },
  {
   "cell_type": "code",
   "execution_count": 84,
   "metadata": {},
   "outputs": [],
   "source": [
    "# drop empty column and the column specifying thenewsapi as source\n",
    "newspleasedata = newspleasedata.drop(columns=['text', 'url_source', 'authors','description'])"
   ]
  },
  {
   "cell_type": "markdown",
   "metadata": {
    "pycharm": {
     "is_executing": true
    }
   },
   "source": [
    "---\n",
    "\n",
    "### Bereinigung von Duplikaten\n",
    "\n",
    "In diesem Schritt werden alle Duplikate nach dem vollständigen Nachrichtentext extrahiert und entfernt."
   ]
  },
  {
   "cell_type": "code",
   "execution_count": 85,
   "metadata": {},
   "outputs": [],
   "source": [
    "newspleasedplicates = newspleasedata[newspleasedata.duplicated(subset=['maintext']) == True]\n",
    "newspleasedata = newspleasedata[newspleasedata.duplicated(subset=['maintext']) == False]"
   ]
  },
  {
   "cell_type": "code",
   "execution_count": 86,
   "metadata": {},
   "outputs": [
    {
     "data": {
      "text/plain": [
       "_id              655650\n",
       "date_download    655650\n",
       "date_modify           0\n",
       "date_publish     642512\n",
       "language         655650\n",
       "maintext         655650\n",
       "source_domain    655650\n",
       "title            655650\n",
       "url              655650\n",
       "url_id           655650\n",
       "dtype: int64"
      ]
     },
     "execution_count": 86,
     "metadata": {},
     "output_type": "execute_result"
    }
   ],
   "source": [
    "newspleasedata.count()"
   ]
  },
  {
   "cell_type": "code",
   "execution_count": 87,
   "metadata": {},
   "outputs": [],
   "source": [
    "newspleasedata = newspleasedata.rename(columns={'_id': 'newsplease_id'})"
   ]
  },
  {
   "cell_type": "markdown",
   "metadata": {},
   "source": [
    "---\n",
    "\n",
    "### Bereinigung des Datensatzes anhand des Veröffentlichungsdatums\n",
    "\n",
    "In diesem Abschnitt werden Datensätze entfernt, welche außerhalb des Zeitraums zwischen dem 1.8.21 und dem 31.7.22 liegen."
   ]
  },
  {
   "cell_type": "code",
   "execution_count": 88,
   "metadata": {},
   "outputs": [],
   "source": [
    "newspleasedata['date_publish'] = pd.to_datetime(newspleasedata['date_publish'], errors='coerce')"
   ]
  },
  {
   "cell_type": "code",
   "execution_count": 89,
   "metadata": {},
   "outputs": [],
   "source": [
    "newspleasedata = newspleasedata[newspleasedata['date_publish'] >= pd.Timestamp('2021-08-01')]\n",
    "newspleasedata = newspleasedata[newspleasedata['date_publish'] <= pd.Timestamp('2022-07-31')]"
   ]
  },
  {
   "cell_type": "code",
   "execution_count": 90,
   "metadata": {},
   "outputs": [
    {
     "data": {
      "text/plain": [
       "newsplease_id    621899\n",
       "date_download    621899\n",
       "date_modify           0\n",
       "date_publish     621899\n",
       "language         621899\n",
       "maintext         621899\n",
       "source_domain    621899\n",
       "title            621899\n",
       "url              621899\n",
       "url_id           621899\n",
       "dtype: int64"
      ]
     },
     "execution_count": 90,
     "metadata": {},
     "output_type": "execute_result"
    }
   ],
   "source": [
    "newspleasedata.count()"
   ]
  },
  {
   "cell_type": "markdown",
   "metadata": {
    "pycharm": {
     "is_executing": true
    }
   },
   "source": [
    "---\n",
    "\n",
    "### Bereinigung anderssprachiger Artikel\n",
    "\n",
    "In diesem Abschnitt werden alle Artikel entfernt, welche nicht in deutscher Sprache verfasst worden sind."
   ]
  },
  {
   "cell_type": "code",
   "execution_count": 91,
   "metadata": {},
   "outputs": [
    {
     "data": {
      "text/plain": [
       "de    586901\n",
       "fr     34697\n",
       "en       301\n",
       "Name: language, dtype: int64"
      ]
     },
     "execution_count": 91,
     "metadata": {},
     "output_type": "execute_result"
    }
   ],
   "source": [
    "newspleasedata['language'].value_counts()"
   ]
  },
  {
   "cell_type": "code",
   "execution_count": 92,
   "metadata": {},
   "outputs": [],
   "source": [
    "newspleasedata = newspleasedata[newspleasedata['language'] == 'de']"
   ]
  },
  {
   "cell_type": "markdown",
   "metadata": {
    "pycharm": {
     "is_executing": true
    }
   },
   "source": [
    "---\n",
    "\n",
    "### Bereinigung von Domainnamen\n",
    "\n",
    "Irrelevante Domains (blogs, etc) werden entfernt, Die Domainnamen werden an denselben Standard angepasst"
   ]
  },
  {
   "cell_type": "code",
   "execution_count": 93,
   "metadata": {},
   "outputs": [
    {
     "data": {
      "text/plain": [
       "www.zeit.de             91199\n",
       "www.t-online.de         87367\n",
       "www.bild.de             76891\n",
       "www.derstandard.at      39713\n",
       "www.krone.at            37422\n",
       "www.welt.de             37070\n",
       "kurier.at               36838\n",
       "www.stern.de            35962\n",
       "www.n-tv.de             34087\n",
       "www.spiegel.de          25887\n",
       "www.20min.ch            24451\n",
       "www.sueddeutsche.de     17037\n",
       "www.srf.ch              16412\n",
       "www.blick.ch            15210\n",
       "www.kleinezeitung.at    11346\n",
       "blog.zeit.de                8\n",
       "sportbild.bild.de           1\n",
       "Name: source_domain, dtype: int64"
      ]
     },
     "execution_count": 93,
     "metadata": {},
     "output_type": "execute_result"
    }
   ],
   "source": [
    "newspleasedata['source_domain'].value_counts()"
   ]
  },
  {
   "cell_type": "code",
   "execution_count": 94,
   "metadata": {},
   "outputs": [],
   "source": [
    "# remove irrelevant domains\n",
    "newspleasedata = newspleasedata[newspleasedata['source_domain'] != 'blog.zeit.de']\n",
    "newspleasedata = newspleasedata[newspleasedata['source_domain'] != 'sportbild.bild.de']"
   ]
  },
  {
   "cell_type": "code",
   "execution_count": 95,
   "metadata": {},
   "outputs": [],
   "source": [
    "# add 'www.' to be consistent\n",
    "newspleasedata['source_domain'] = newspleasedata['source_domain'].replace({'kurier.at': 'www.kurier.at'})"
   ]
  },
  {
   "cell_type": "markdown",
   "metadata": {},
   "source": [
    "---\n",
    "\n",
    "### Entfernen von Premium-Artikeln\n",
    "\n",
    "Einige Nachrichtenanbieter bieten bezahlten Content an. Die Textpassagen in diesen Artikeln sind nicht vollständig, daher werden sie entfernt."
   ]
  },
  {
   "cell_type": "code",
   "execution_count": 96,
   "metadata": {},
   "outputs": [],
   "source": [
    "def remove_premium_articles(maintext, source, url):\n",
    "    if (source == 'www.welt.de') and ('/plus' in url):\n",
    "        return True\n",
    "    if (source == 'www.spiegel.de') and ('SPIEGEL+' in maintext):\n",
    "        return True\n",
    "    if (source == 'www.bild.de') and ('lesen Sie mehr mit BILDplus!' in maintext):\n",
    "        return True\n",
    "    if (source == 'www.kurier.at') and ('Anmeldung für unser Plus Abo zeigen' in maintext):\n",
    "        return True\n",
    "    return False\n",
    "    \n",
    "newspleasedata['is_premium'] = newspleasedata.apply(lambda x: remove_premium_articles(x.maintext, x.source_domain, x.url), axis=1)\n",
    "newspleasedata = newspleasedata[newspleasedata['is_premium'] == False]"
   ]
  },
  {
   "cell_type": "code",
   "execution_count": 97,
   "metadata": {},
   "outputs": [
    {
     "data": {
      "text/plain": [
       "newsplease_id    580108\n",
       "date_download    580108\n",
       "date_modify           0\n",
       "date_publish     580108\n",
       "language         580108\n",
       "maintext         580108\n",
       "source_domain    580108\n",
       "title            580108\n",
       "url              580108\n",
       "url_id           580108\n",
       "is_premium       580108\n",
       "dtype: int64"
      ]
     },
     "execution_count": 97,
     "metadata": {},
     "output_type": "execute_result"
    }
   ],
   "source": [
    "newspleasedata.count()"
   ]
  },
  {
   "cell_type": "markdown",
   "metadata": {},
   "source": [
    "---\n",
    "\n",
    "### Hinzufügen einer Spalte für das Land des Nachrichtenanbieters"
   ]
  },
  {
   "cell_type": "code",
   "execution_count": 98,
   "metadata": {},
   "outputs": [],
   "source": [
    "# add country column by domain\n",
    "def get_country_by_domain(domain):\n",
    "    if ('.at' in domain):\n",
    "        return 'AT'\n",
    "    elif ('.ch' in domain):\n",
    "        return 'CH'\n",
    "    else:\n",
    "        return 'DE'\n",
    "newspleasedata['country'] = newspleasedata.apply(lambda x: get_country_by_domain(x.source_domain), axis=1)"
   ]
  },
  {
   "cell_type": "markdown",
   "metadata": {},
   "source": [
    "---\n",
    "\n",
    "### Entfernen von irrelevanten Nachrichtenartikeln\n",
    "\n",
    "Einige Artikel enthalten lediglich videos, sind eine Ansammlung an kurznachrichten oder enthalten Wetterinformationen. Diese werden entfernt."
   ]
  },
  {
   "cell_type": "code",
   "execution_count": 99,
   "metadata": {},
   "outputs": [],
   "source": [
    "def url_or_title_contains_stopwords(url, title):\n",
    "    for substring in ['video', 'wetter', 'ticker']:\n",
    "        if (substring in url):\n",
    "            return substring\n",
    "    for substring in ['blog', 'ticker']:\n",
    "        if (substring in title):\n",
    "            return substring\n",
    "    return None\n",
    "newspleasedata['unwanted_cat'] = newspleasedata.apply(lambda x: url_or_title_contains_stopwords(x.url, x.title), axis=1)\n",
    "newspleasedata = newspleasedata[newspleasedata['unwanted_cat'].isna()]"
   ]
  },
  {
   "cell_type": "code",
   "execution_count": 100,
   "metadata": {},
   "outputs": [],
   "source": [
    "newspleasedata = newspleasedata.drop(columns=['date_modify', 'unwanted_cat'])"
   ]
  },
  {
   "cell_type": "markdown",
   "metadata": {},
   "source": [
    "---\n",
    "\n",
    "### Analyse von Textlängen\n",
    "\n",
    "In diesem Abschnitt werden die Textlängen von Artikeln untersucht. Zu kurze Artikel werden entfernt."
   ]
  },
  {
   "cell_type": "code",
   "execution_count": 101,
   "metadata": {},
   "outputs": [],
   "source": [
    "newspleasedata['text_length'] = newspleasedata['maintext'].astype(str).apply(len)"
   ]
  },
  {
   "cell_type": "code",
   "execution_count": 102,
   "metadata": {},
   "outputs": [
    {
     "data": {
      "text/html": [
       "<div>\n",
       "<style scoped>\n",
       "    .dataframe tbody tr th:only-of-type {\n",
       "        vertical-align: middle;\n",
       "    }\n",
       "\n",
       "    .dataframe tbody tr th {\n",
       "        vertical-align: top;\n",
       "    }\n",
       "\n",
       "    .dataframe thead th {\n",
       "        text-align: right;\n",
       "    }\n",
       "</style>\n",
       "<table border=\"1\" class=\"dataframe\">\n",
       "  <thead>\n",
       "    <tr style=\"text-align: right;\">\n",
       "      <th></th>\n",
       "      <th>count</th>\n",
       "      <th>mean</th>\n",
       "      <th>std</th>\n",
       "      <th>min</th>\n",
       "      <th>25%</th>\n",
       "      <th>50%</th>\n",
       "      <th>75%</th>\n",
       "      <th>max</th>\n",
       "    </tr>\n",
       "    <tr>\n",
       "      <th>source_domain</th>\n",
       "      <th></th>\n",
       "      <th></th>\n",
       "      <th></th>\n",
       "      <th></th>\n",
       "      <th></th>\n",
       "      <th></th>\n",
       "      <th></th>\n",
       "      <th></th>\n",
       "    </tr>\n",
       "  </thead>\n",
       "  <tbody>\n",
       "    <tr>\n",
       "      <th>www.20min.ch</th>\n",
       "      <td>20163.0</td>\n",
       "      <td>3147.382136</td>\n",
       "      <td>1533.013426</td>\n",
       "      <td>90.0</td>\n",
       "      <td>2192.00</td>\n",
       "      <td>3055.0</td>\n",
       "      <td>4028.00</td>\n",
       "      <td>21085.0</td>\n",
       "    </tr>\n",
       "    <tr>\n",
       "      <th>www.bild.de</th>\n",
       "      <td>75975.0</td>\n",
       "      <td>1979.732294</td>\n",
       "      <td>1437.575824</td>\n",
       "      <td>76.0</td>\n",
       "      <td>1100.00</td>\n",
       "      <td>1722.0</td>\n",
       "      <td>2464.00</td>\n",
       "      <td>25231.0</td>\n",
       "    </tr>\n",
       "    <tr>\n",
       "      <th>www.blick.ch</th>\n",
       "      <td>14944.0</td>\n",
       "      <td>2567.364293</td>\n",
       "      <td>2315.251167</td>\n",
       "      <td>72.0</td>\n",
       "      <td>1306.75</td>\n",
       "      <td>2095.0</td>\n",
       "      <td>3089.00</td>\n",
       "      <td>55893.0</td>\n",
       "    </tr>\n",
       "    <tr>\n",
       "      <th>www.derstandard.at</th>\n",
       "      <td>39473.0</td>\n",
       "      <td>3573.862007</td>\n",
       "      <td>2432.846404</td>\n",
       "      <td>141.0</td>\n",
       "      <td>1851.00</td>\n",
       "      <td>3023.0</td>\n",
       "      <td>4669.00</td>\n",
       "      <td>51025.0</td>\n",
       "    </tr>\n",
       "    <tr>\n",
       "      <th>www.kleinezeitung.at</th>\n",
       "      <td>11257.0</td>\n",
       "      <td>2349.206716</td>\n",
       "      <td>2215.773208</td>\n",
       "      <td>327.0</td>\n",
       "      <td>1140.00</td>\n",
       "      <td>1889.0</td>\n",
       "      <td>3021.00</td>\n",
       "      <td>99703.0</td>\n",
       "    </tr>\n",
       "    <tr>\n",
       "      <th>www.krone.at</th>\n",
       "      <td>37422.0</td>\n",
       "      <td>476.710972</td>\n",
       "      <td>159.430422</td>\n",
       "      <td>80.0</td>\n",
       "      <td>370.00</td>\n",
       "      <td>461.0</td>\n",
       "      <td>561.00</td>\n",
       "      <td>4416.0</td>\n",
       "    </tr>\n",
       "    <tr>\n",
       "      <th>www.kurier.at</th>\n",
       "      <td>36486.0</td>\n",
       "      <td>1329.720578</td>\n",
       "      <td>902.870969</td>\n",
       "      <td>100.0</td>\n",
       "      <td>759.00</td>\n",
       "      <td>1079.0</td>\n",
       "      <td>1620.00</td>\n",
       "      <td>12926.0</td>\n",
       "    </tr>\n",
       "    <tr>\n",
       "      <th>www.n-tv.de</th>\n",
       "      <td>33627.0</td>\n",
       "      <td>3564.046391</td>\n",
       "      <td>2146.868512</td>\n",
       "      <td>89.0</td>\n",
       "      <td>2236.00</td>\n",
       "      <td>2904.0</td>\n",
       "      <td>4306.50</td>\n",
       "      <td>42036.0</td>\n",
       "    </tr>\n",
       "    <tr>\n",
       "      <th>www.spiegel.de</th>\n",
       "      <td>25443.0</td>\n",
       "      <td>958.894195</td>\n",
       "      <td>1204.211542</td>\n",
       "      <td>76.0</td>\n",
       "      <td>535.00</td>\n",
       "      <td>692.0</td>\n",
       "      <td>910.00</td>\n",
       "      <td>99786.0</td>\n",
       "    </tr>\n",
       "    <tr>\n",
       "      <th>www.srf.ch</th>\n",
       "      <td>16289.0</td>\n",
       "      <td>3399.864633</td>\n",
       "      <td>3228.004160</td>\n",
       "      <td>103.0</td>\n",
       "      <td>1827.00</td>\n",
       "      <td>2987.0</td>\n",
       "      <td>4045.00</td>\n",
       "      <td>99733.0</td>\n",
       "    </tr>\n",
       "    <tr>\n",
       "      <th>www.stern.de</th>\n",
       "      <td>34010.0</td>\n",
       "      <td>3249.995472</td>\n",
       "      <td>3776.184562</td>\n",
       "      <td>89.0</td>\n",
       "      <td>1652.00</td>\n",
       "      <td>2454.0</td>\n",
       "      <td>3919.00</td>\n",
       "      <td>99601.0</td>\n",
       "    </tr>\n",
       "    <tr>\n",
       "      <th>www.sueddeutsche.de</th>\n",
       "      <td>16912.0</td>\n",
       "      <td>3244.542573</td>\n",
       "      <td>2581.800672</td>\n",
       "      <td>106.0</td>\n",
       "      <td>842.00</td>\n",
       "      <td>3007.0</td>\n",
       "      <td>4927.25</td>\n",
       "      <td>54893.0</td>\n",
       "    </tr>\n",
       "    <tr>\n",
       "      <th>www.t-online.de</th>\n",
       "      <td>86403.0</td>\n",
       "      <td>1495.927387</td>\n",
       "      <td>1215.342537</td>\n",
       "      <td>82.0</td>\n",
       "      <td>1006.00</td>\n",
       "      <td>1451.0</td>\n",
       "      <td>1864.00</td>\n",
       "      <td>99653.0</td>\n",
       "    </tr>\n",
       "    <tr>\n",
       "      <th>www.welt.de</th>\n",
       "      <td>22744.0</td>\n",
       "      <td>5356.403799</td>\n",
       "      <td>4814.398204</td>\n",
       "      <td>126.0</td>\n",
       "      <td>2963.00</td>\n",
       "      <td>4343.0</td>\n",
       "      <td>6635.25</td>\n",
       "      <td>99702.0</td>\n",
       "    </tr>\n",
       "    <tr>\n",
       "      <th>www.zeit.de</th>\n",
       "      <td>90051.0</td>\n",
       "      <td>2046.687488</td>\n",
       "      <td>1690.393186</td>\n",
       "      <td>69.0</td>\n",
       "      <td>907.00</td>\n",
       "      <td>1505.0</td>\n",
       "      <td>2701.50</td>\n",
       "      <td>99510.0</td>\n",
       "    </tr>\n",
       "  </tbody>\n",
       "</table>\n",
       "</div>"
      ],
      "text/plain": [
       "                        count         mean          std    min      25%  \\\n",
       "source_domain                                                             \n",
       "www.20min.ch          20163.0  3147.382136  1533.013426   90.0  2192.00   \n",
       "www.bild.de           75975.0  1979.732294  1437.575824   76.0  1100.00   \n",
       "www.blick.ch          14944.0  2567.364293  2315.251167   72.0  1306.75   \n",
       "www.derstandard.at    39473.0  3573.862007  2432.846404  141.0  1851.00   \n",
       "www.kleinezeitung.at  11257.0  2349.206716  2215.773208  327.0  1140.00   \n",
       "www.krone.at          37422.0   476.710972   159.430422   80.0   370.00   \n",
       "www.kurier.at         36486.0  1329.720578   902.870969  100.0   759.00   \n",
       "www.n-tv.de           33627.0  3564.046391  2146.868512   89.0  2236.00   \n",
       "www.spiegel.de        25443.0   958.894195  1204.211542   76.0   535.00   \n",
       "www.srf.ch            16289.0  3399.864633  3228.004160  103.0  1827.00   \n",
       "www.stern.de          34010.0  3249.995472  3776.184562   89.0  1652.00   \n",
       "www.sueddeutsche.de   16912.0  3244.542573  2581.800672  106.0   842.00   \n",
       "www.t-online.de       86403.0  1495.927387  1215.342537   82.0  1006.00   \n",
       "www.welt.de           22744.0  5356.403799  4814.398204  126.0  2963.00   \n",
       "www.zeit.de           90051.0  2046.687488  1690.393186   69.0   907.00   \n",
       "\n",
       "                         50%      75%      max  \n",
       "source_domain                                   \n",
       "www.20min.ch          3055.0  4028.00  21085.0  \n",
       "www.bild.de           1722.0  2464.00  25231.0  \n",
       "www.blick.ch          2095.0  3089.00  55893.0  \n",
       "www.derstandard.at    3023.0  4669.00  51025.0  \n",
       "www.kleinezeitung.at  1889.0  3021.00  99703.0  \n",
       "www.krone.at           461.0   561.00   4416.0  \n",
       "www.kurier.at         1079.0  1620.00  12926.0  \n",
       "www.n-tv.de           2904.0  4306.50  42036.0  \n",
       "www.spiegel.de         692.0   910.00  99786.0  \n",
       "www.srf.ch            2987.0  4045.00  99733.0  \n",
       "www.stern.de          2454.0  3919.00  99601.0  \n",
       "www.sueddeutsche.de   3007.0  4927.25  54893.0  \n",
       "www.t-online.de       1451.0  1864.00  99653.0  \n",
       "www.welt.de           4343.0  6635.25  99702.0  \n",
       "www.zeit.de           1505.0  2701.50  99510.0  "
      ]
     },
     "execution_count": 102,
     "metadata": {},
     "output_type": "execute_result"
    }
   ],
   "source": [
    "newspleasedata.groupby(\"source_domain\")['text_length'].describe()"
   ]
  },
  {
   "cell_type": "code",
   "execution_count": 103,
   "metadata": {},
   "outputs": [
    {
     "data": {
      "text/plain": [
       "count    561199.000000\n",
       "mean       2292.455888\n",
       "std        2373.179207\n",
       "min          69.000000\n",
       "5%          409.000000\n",
       "10%         525.000000\n",
       "25%         906.500000\n",
       "50%        1724.000000\n",
       "75%        2933.000000\n",
       "90%        4688.000000\n",
       "95%        6020.000000\n",
       "max       99786.000000\n",
       "Name: text_length, dtype: float64"
      ]
     },
     "execution_count": 103,
     "metadata": {},
     "output_type": "execute_result"
    }
   ],
   "source": [
    "newspleasedata['text_length'].describe(percentiles=[.05,.10,.25,.50,.75,.90,.95])"
   ]
  },
  {
   "cell_type": "code",
   "execution_count": 104,
   "metadata": {},
   "outputs": [],
   "source": [
    "newspleasedata = newspleasedata[newspleasedata['text_length']>400]"
   ]
  },
  {
   "cell_type": "code",
   "execution_count": 105,
   "metadata": {},
   "outputs": [
    {
     "data": {
      "text/plain": [
       "newsplease_id    534819\n",
       "date_download    534819\n",
       "date_publish     534819\n",
       "language         534819\n",
       "maintext         534819\n",
       "source_domain    534819\n",
       "title            534819\n",
       "url              534819\n",
       "url_id           534819\n",
       "is_premium       534819\n",
       "country          534819\n",
       "text_length      534819\n",
       "dtype: int64"
      ]
     },
     "execution_count": 105,
     "metadata": {},
     "output_type": "execute_result"
    }
   ],
   "source": [
    "newspleasedata.count()"
   ]
  },
  {
   "cell_type": "code",
   "execution_count": null,
   "metadata": {},
   "outputs": [],
   "source": [
    "db.rawdata.insert_many(newspleasedata.to_dict('records'))\n"
   ]
  }
 ],
 "metadata": {
  "kernelspec": {
   "display_name": "Python 3 (ipykernel)",
   "language": "python",
   "name": "python3"
  },
  "language_info": {
   "codemirror_mode": {
    "name": "ipython",
    "version": 3
   },
   "file_extension": ".py",
   "mimetype": "text/x-python",
   "name": "python",
   "nbconvert_exporter": "python",
   "pygments_lexer": "ipython3",
   "version": "3.10.4"
  }
 },
 "nbformat": 4,
 "nbformat_minor": 1
}
